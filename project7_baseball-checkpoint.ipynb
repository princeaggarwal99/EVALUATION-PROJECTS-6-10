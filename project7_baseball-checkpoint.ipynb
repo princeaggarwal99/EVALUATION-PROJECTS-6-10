{
 "cells": [
  {
   "cell_type": "code",
   "execution_count": 3,
   "metadata": {},
   "outputs": [],
   "source": [
    "# importing libraries\n",
    "import pandas as pd\n",
    "import numpy as np \n",
    "import matplotlib.pyplot as plt\n",
    "import seaborn as sns\n",
    "import warnings \n",
    "warnings.filterwarnings(\"ignore\")"
   ]
  },
  {
   "cell_type": "code",
   "execution_count": 4,
   "metadata": {},
   "outputs": [],
   "source": [
    "#importing dataset\n",
    "baseball=pd.read_csv(\"baseball.csv\")"
   ]
  },
  {
   "cell_type": "code",
   "execution_count": 5,
   "metadata": {},
   "outputs": [
    {
     "data": {
      "text/html": [
       "<div>\n",
       "<style scoped>\n",
       "    .dataframe tbody tr th:only-of-type {\n",
       "        vertical-align: middle;\n",
       "    }\n",
       "\n",
       "    .dataframe tbody tr th {\n",
       "        vertical-align: top;\n",
       "    }\n",
       "\n",
       "    .dataframe thead th {\n",
       "        text-align: right;\n",
       "    }\n",
       "</style>\n",
       "<table border=\"1\" class=\"dataframe\">\n",
       "  <thead>\n",
       "    <tr style=\"text-align: right;\">\n",
       "      <th></th>\n",
       "      <th>W</th>\n",
       "      <th>R</th>\n",
       "      <th>AB</th>\n",
       "      <th>H</th>\n",
       "      <th>2B</th>\n",
       "      <th>3B</th>\n",
       "      <th>HR</th>\n",
       "      <th>BB</th>\n",
       "      <th>SO</th>\n",
       "      <th>SB</th>\n",
       "      <th>RA</th>\n",
       "      <th>ER</th>\n",
       "      <th>ERA</th>\n",
       "      <th>CG</th>\n",
       "      <th>SHO</th>\n",
       "      <th>SV</th>\n",
       "      <th>E</th>\n",
       "    </tr>\n",
       "  </thead>\n",
       "  <tbody>\n",
       "    <tr>\n",
       "      <td>0</td>\n",
       "      <td>95</td>\n",
       "      <td>724</td>\n",
       "      <td>5575</td>\n",
       "      <td>1497</td>\n",
       "      <td>300</td>\n",
       "      <td>42</td>\n",
       "      <td>139</td>\n",
       "      <td>383</td>\n",
       "      <td>973</td>\n",
       "      <td>104</td>\n",
       "      <td>641</td>\n",
       "      <td>601</td>\n",
       "      <td>3.73</td>\n",
       "      <td>2</td>\n",
       "      <td>8</td>\n",
       "      <td>56</td>\n",
       "      <td>88</td>\n",
       "    </tr>\n",
       "    <tr>\n",
       "      <td>1</td>\n",
       "      <td>83</td>\n",
       "      <td>696</td>\n",
       "      <td>5467</td>\n",
       "      <td>1349</td>\n",
       "      <td>277</td>\n",
       "      <td>44</td>\n",
       "      <td>156</td>\n",
       "      <td>439</td>\n",
       "      <td>1264</td>\n",
       "      <td>70</td>\n",
       "      <td>700</td>\n",
       "      <td>653</td>\n",
       "      <td>4.07</td>\n",
       "      <td>2</td>\n",
       "      <td>12</td>\n",
       "      <td>45</td>\n",
       "      <td>86</td>\n",
       "    </tr>\n",
       "    <tr>\n",
       "      <td>2</td>\n",
       "      <td>81</td>\n",
       "      <td>669</td>\n",
       "      <td>5439</td>\n",
       "      <td>1395</td>\n",
       "      <td>303</td>\n",
       "      <td>29</td>\n",
       "      <td>141</td>\n",
       "      <td>533</td>\n",
       "      <td>1157</td>\n",
       "      <td>86</td>\n",
       "      <td>640</td>\n",
       "      <td>584</td>\n",
       "      <td>3.67</td>\n",
       "      <td>11</td>\n",
       "      <td>10</td>\n",
       "      <td>38</td>\n",
       "      <td>79</td>\n",
       "    </tr>\n",
       "    <tr>\n",
       "      <td>3</td>\n",
       "      <td>76</td>\n",
       "      <td>622</td>\n",
       "      <td>5533</td>\n",
       "      <td>1381</td>\n",
       "      <td>260</td>\n",
       "      <td>27</td>\n",
       "      <td>136</td>\n",
       "      <td>404</td>\n",
       "      <td>1231</td>\n",
       "      <td>68</td>\n",
       "      <td>701</td>\n",
       "      <td>643</td>\n",
       "      <td>3.98</td>\n",
       "      <td>7</td>\n",
       "      <td>9</td>\n",
       "      <td>37</td>\n",
       "      <td>101</td>\n",
       "    </tr>\n",
       "    <tr>\n",
       "      <td>4</td>\n",
       "      <td>74</td>\n",
       "      <td>689</td>\n",
       "      <td>5605</td>\n",
       "      <td>1515</td>\n",
       "      <td>289</td>\n",
       "      <td>49</td>\n",
       "      <td>151</td>\n",
       "      <td>455</td>\n",
       "      <td>1259</td>\n",
       "      <td>83</td>\n",
       "      <td>803</td>\n",
       "      <td>746</td>\n",
       "      <td>4.64</td>\n",
       "      <td>7</td>\n",
       "      <td>12</td>\n",
       "      <td>35</td>\n",
       "      <td>86</td>\n",
       "    </tr>\n",
       "  </tbody>\n",
       "</table>\n",
       "</div>"
      ],
      "text/plain": [
       "    W    R    AB     H   2B  3B   HR   BB    SO   SB   RA   ER   ERA  CG  SHO  \\\n",
       "0  95  724  5575  1497  300  42  139  383   973  104  641  601  3.73   2    8   \n",
       "1  83  696  5467  1349  277  44  156  439  1264   70  700  653  4.07   2   12   \n",
       "2  81  669  5439  1395  303  29  141  533  1157   86  640  584  3.67  11   10   \n",
       "3  76  622  5533  1381  260  27  136  404  1231   68  701  643  3.98   7    9   \n",
       "4  74  689  5605  1515  289  49  151  455  1259   83  803  746  4.64   7   12   \n",
       "\n",
       "   SV    E  \n",
       "0  56   88  \n",
       "1  45   86  \n",
       "2  38   79  \n",
       "3  37  101  \n",
       "4  35   86  "
      ]
     },
     "execution_count": 5,
     "metadata": {},
     "output_type": "execute_result"
    }
   ],
   "source": [
    "baseball.head()"
   ]
  },
  {
   "cell_type": "code",
   "execution_count": 6,
   "metadata": {},
   "outputs": [
    {
     "data": {
      "text/plain": [
       "(30, 17)"
      ]
     },
     "execution_count": 6,
     "metadata": {},
     "output_type": "execute_result"
    }
   ],
   "source": [
    "#shape\n",
    "baseball.shape"
   ]
  },
  {
   "cell_type": "code",
   "execution_count": 7,
   "metadata": {},
   "outputs": [
    {
     "name": "stdout",
     "output_type": "stream",
     "text": [
      "<class 'pandas.core.frame.DataFrame'>\n",
      "RangeIndex: 30 entries, 0 to 29\n",
      "Data columns (total 17 columns):\n",
      "W      30 non-null int64\n",
      "R      30 non-null int64\n",
      "AB     30 non-null int64\n",
      "H      30 non-null int64\n",
      "2B     30 non-null int64\n",
      "3B     30 non-null int64\n",
      "HR     30 non-null int64\n",
      "BB     30 non-null int64\n",
      "SO     30 non-null int64\n",
      "SB     30 non-null int64\n",
      "RA     30 non-null int64\n",
      "ER     30 non-null int64\n",
      "ERA    30 non-null float64\n",
      "CG     30 non-null int64\n",
      "SHO    30 non-null int64\n",
      "SV     30 non-null int64\n",
      "E      30 non-null int64\n",
      "dtypes: float64(1), int64(16)\n",
      "memory usage: 4.1 KB\n"
     ]
    }
   ],
   "source": [
    "baseball.info()"
   ]
  },
  {
   "cell_type": "code",
   "execution_count": 8,
   "metadata": {},
   "outputs": [
    {
     "data": {
      "text/plain": [
       "W        int64\n",
       "R        int64\n",
       "AB       int64\n",
       "H        int64\n",
       "2B       int64\n",
       "3B       int64\n",
       "HR       int64\n",
       "BB       int64\n",
       "SO       int64\n",
       "SB       int64\n",
       "RA       int64\n",
       "ER       int64\n",
       "ERA    float64\n",
       "CG       int64\n",
       "SHO      int64\n",
       "SV       int64\n",
       "E        int64\n",
       "dtype: object"
      ]
     },
     "execution_count": 8,
     "metadata": {},
     "output_type": "execute_result"
    }
   ],
   "source": [
    "baseball.dtypes"
   ]
  },
  {
   "cell_type": "code",
   "execution_count": 9,
   "metadata": {},
   "outputs": [
    {
     "data": {
      "text/html": [
       "<div>\n",
       "<style scoped>\n",
       "    .dataframe tbody tr th:only-of-type {\n",
       "        vertical-align: middle;\n",
       "    }\n",
       "\n",
       "    .dataframe tbody tr th {\n",
       "        vertical-align: top;\n",
       "    }\n",
       "\n",
       "    .dataframe thead th {\n",
       "        text-align: right;\n",
       "    }\n",
       "</style>\n",
       "<table border=\"1\" class=\"dataframe\">\n",
       "  <thead>\n",
       "    <tr style=\"text-align: right;\">\n",
       "      <th></th>\n",
       "      <th>W</th>\n",
       "      <th>R</th>\n",
       "      <th>AB</th>\n",
       "      <th>H</th>\n",
       "      <th>2B</th>\n",
       "      <th>3B</th>\n",
       "      <th>HR</th>\n",
       "      <th>BB</th>\n",
       "      <th>SO</th>\n",
       "      <th>SB</th>\n",
       "      <th>RA</th>\n",
       "      <th>ER</th>\n",
       "      <th>ERA</th>\n",
       "      <th>CG</th>\n",
       "      <th>SHO</th>\n",
       "      <th>SV</th>\n",
       "      <th>E</th>\n",
       "    </tr>\n",
       "  </thead>\n",
       "  <tbody>\n",
       "    <tr>\n",
       "      <td>count</td>\n",
       "      <td>30.000000</td>\n",
       "      <td>30.000000</td>\n",
       "      <td>30.000000</td>\n",
       "      <td>30.000000</td>\n",
       "      <td>30.000000</td>\n",
       "      <td>30.000000</td>\n",
       "      <td>30.000000</td>\n",
       "      <td>30.000000</td>\n",
       "      <td>30.00000</td>\n",
       "      <td>30.000000</td>\n",
       "      <td>30.000000</td>\n",
       "      <td>30.000000</td>\n",
       "      <td>30.000000</td>\n",
       "      <td>30.000000</td>\n",
       "      <td>30.000000</td>\n",
       "      <td>30.000000</td>\n",
       "      <td>30.000000</td>\n",
       "    </tr>\n",
       "    <tr>\n",
       "      <td>mean</td>\n",
       "      <td>80.966667</td>\n",
       "      <td>688.233333</td>\n",
       "      <td>5516.266667</td>\n",
       "      <td>1403.533333</td>\n",
       "      <td>274.733333</td>\n",
       "      <td>31.300000</td>\n",
       "      <td>163.633333</td>\n",
       "      <td>469.100000</td>\n",
       "      <td>1248.20000</td>\n",
       "      <td>83.500000</td>\n",
       "      <td>688.233333</td>\n",
       "      <td>635.833333</td>\n",
       "      <td>3.956333</td>\n",
       "      <td>3.466667</td>\n",
       "      <td>11.300000</td>\n",
       "      <td>43.066667</td>\n",
       "      <td>94.333333</td>\n",
       "    </tr>\n",
       "    <tr>\n",
       "      <td>std</td>\n",
       "      <td>10.453455</td>\n",
       "      <td>58.761754</td>\n",
       "      <td>70.467372</td>\n",
       "      <td>57.140923</td>\n",
       "      <td>18.095405</td>\n",
       "      <td>10.452355</td>\n",
       "      <td>31.823309</td>\n",
       "      <td>57.053725</td>\n",
       "      <td>103.75947</td>\n",
       "      <td>22.815225</td>\n",
       "      <td>72.108005</td>\n",
       "      <td>70.140786</td>\n",
       "      <td>0.454089</td>\n",
       "      <td>2.763473</td>\n",
       "      <td>4.120177</td>\n",
       "      <td>7.869335</td>\n",
       "      <td>13.958889</td>\n",
       "    </tr>\n",
       "    <tr>\n",
       "      <td>min</td>\n",
       "      <td>63.000000</td>\n",
       "      <td>573.000000</td>\n",
       "      <td>5385.000000</td>\n",
       "      <td>1324.000000</td>\n",
       "      <td>236.000000</td>\n",
       "      <td>13.000000</td>\n",
       "      <td>100.000000</td>\n",
       "      <td>375.000000</td>\n",
       "      <td>973.00000</td>\n",
       "      <td>44.000000</td>\n",
       "      <td>525.000000</td>\n",
       "      <td>478.000000</td>\n",
       "      <td>2.940000</td>\n",
       "      <td>0.000000</td>\n",
       "      <td>4.000000</td>\n",
       "      <td>28.000000</td>\n",
       "      <td>75.000000</td>\n",
       "    </tr>\n",
       "    <tr>\n",
       "      <td>25%</td>\n",
       "      <td>74.000000</td>\n",
       "      <td>651.250000</td>\n",
       "      <td>5464.000000</td>\n",
       "      <td>1363.000000</td>\n",
       "      <td>262.250000</td>\n",
       "      <td>23.000000</td>\n",
       "      <td>140.250000</td>\n",
       "      <td>428.250000</td>\n",
       "      <td>1157.50000</td>\n",
       "      <td>69.000000</td>\n",
       "      <td>636.250000</td>\n",
       "      <td>587.250000</td>\n",
       "      <td>3.682500</td>\n",
       "      <td>1.000000</td>\n",
       "      <td>9.000000</td>\n",
       "      <td>37.250000</td>\n",
       "      <td>86.000000</td>\n",
       "    </tr>\n",
       "    <tr>\n",
       "      <td>50%</td>\n",
       "      <td>81.000000</td>\n",
       "      <td>689.000000</td>\n",
       "      <td>5510.000000</td>\n",
       "      <td>1382.500000</td>\n",
       "      <td>275.500000</td>\n",
       "      <td>31.000000</td>\n",
       "      <td>158.500000</td>\n",
       "      <td>473.000000</td>\n",
       "      <td>1261.50000</td>\n",
       "      <td>83.500000</td>\n",
       "      <td>695.500000</td>\n",
       "      <td>644.500000</td>\n",
       "      <td>4.025000</td>\n",
       "      <td>3.000000</td>\n",
       "      <td>12.000000</td>\n",
       "      <td>42.000000</td>\n",
       "      <td>91.000000</td>\n",
       "    </tr>\n",
       "    <tr>\n",
       "      <td>75%</td>\n",
       "      <td>87.750000</td>\n",
       "      <td>718.250000</td>\n",
       "      <td>5570.000000</td>\n",
       "      <td>1451.500000</td>\n",
       "      <td>288.750000</td>\n",
       "      <td>39.000000</td>\n",
       "      <td>177.000000</td>\n",
       "      <td>501.250000</td>\n",
       "      <td>1311.50000</td>\n",
       "      <td>96.500000</td>\n",
       "      <td>732.500000</td>\n",
       "      <td>679.250000</td>\n",
       "      <td>4.220000</td>\n",
       "      <td>5.750000</td>\n",
       "      <td>13.000000</td>\n",
       "      <td>46.750000</td>\n",
       "      <td>96.750000</td>\n",
       "    </tr>\n",
       "    <tr>\n",
       "      <td>max</td>\n",
       "      <td>100.000000</td>\n",
       "      <td>891.000000</td>\n",
       "      <td>5649.000000</td>\n",
       "      <td>1515.000000</td>\n",
       "      <td>308.000000</td>\n",
       "      <td>49.000000</td>\n",
       "      <td>232.000000</td>\n",
       "      <td>570.000000</td>\n",
       "      <td>1518.00000</td>\n",
       "      <td>134.000000</td>\n",
       "      <td>844.000000</td>\n",
       "      <td>799.000000</td>\n",
       "      <td>5.040000</td>\n",
       "      <td>11.000000</td>\n",
       "      <td>21.000000</td>\n",
       "      <td>62.000000</td>\n",
       "      <td>126.000000</td>\n",
       "    </tr>\n",
       "  </tbody>\n",
       "</table>\n",
       "</div>"
      ],
      "text/plain": [
       "                W           R           AB            H          2B  \\\n",
       "count   30.000000   30.000000    30.000000    30.000000   30.000000   \n",
       "mean    80.966667  688.233333  5516.266667  1403.533333  274.733333   \n",
       "std     10.453455   58.761754    70.467372    57.140923   18.095405   \n",
       "min     63.000000  573.000000  5385.000000  1324.000000  236.000000   \n",
       "25%     74.000000  651.250000  5464.000000  1363.000000  262.250000   \n",
       "50%     81.000000  689.000000  5510.000000  1382.500000  275.500000   \n",
       "75%     87.750000  718.250000  5570.000000  1451.500000  288.750000   \n",
       "max    100.000000  891.000000  5649.000000  1515.000000  308.000000   \n",
       "\n",
       "              3B          HR          BB          SO          SB          RA  \\\n",
       "count  30.000000   30.000000   30.000000    30.00000   30.000000   30.000000   \n",
       "mean   31.300000  163.633333  469.100000  1248.20000   83.500000  688.233333   \n",
       "std    10.452355   31.823309   57.053725   103.75947   22.815225   72.108005   \n",
       "min    13.000000  100.000000  375.000000   973.00000   44.000000  525.000000   \n",
       "25%    23.000000  140.250000  428.250000  1157.50000   69.000000  636.250000   \n",
       "50%    31.000000  158.500000  473.000000  1261.50000   83.500000  695.500000   \n",
       "75%    39.000000  177.000000  501.250000  1311.50000   96.500000  732.500000   \n",
       "max    49.000000  232.000000  570.000000  1518.00000  134.000000  844.000000   \n",
       "\n",
       "               ER        ERA         CG        SHO         SV           E  \n",
       "count   30.000000  30.000000  30.000000  30.000000  30.000000   30.000000  \n",
       "mean   635.833333   3.956333   3.466667  11.300000  43.066667   94.333333  \n",
       "std     70.140786   0.454089   2.763473   4.120177   7.869335   13.958889  \n",
       "min    478.000000   2.940000   0.000000   4.000000  28.000000   75.000000  \n",
       "25%    587.250000   3.682500   1.000000   9.000000  37.250000   86.000000  \n",
       "50%    644.500000   4.025000   3.000000  12.000000  42.000000   91.000000  \n",
       "75%    679.250000   4.220000   5.750000  13.000000  46.750000   96.750000  \n",
       "max    799.000000   5.040000  11.000000  21.000000  62.000000  126.000000  "
      ]
     },
     "execution_count": 9,
     "metadata": {},
     "output_type": "execute_result"
    }
   ],
   "source": [
    "baseball.describe()"
   ]
  },
  {
   "cell_type": "code",
   "execution_count": 10,
   "metadata": {},
   "outputs": [
    {
     "data": {
      "text/plain": [
       "W      0\n",
       "R      0\n",
       "AB     0\n",
       "H      0\n",
       "2B     0\n",
       "3B     0\n",
       "HR     0\n",
       "BB     0\n",
       "SO     0\n",
       "SB     0\n",
       "RA     0\n",
       "ER     0\n",
       "ERA    0\n",
       "CG     0\n",
       "SHO    0\n",
       "SV     0\n",
       "E      0\n",
       "dtype: int64"
      ]
     },
     "execution_count": 10,
     "metadata": {},
     "output_type": "execute_result"
    }
   ],
   "source": [
    "# zero null values \n",
    "baseball.isnull().sum()"
   ]
  },
  {
   "cell_type": "code",
   "execution_count": 11,
   "metadata": {},
   "outputs": [
    {
     "data": {
      "text/plain": [
       "<matplotlib.axes._subplots.AxesSubplot at 0x263a5565c08>"
      ]
     },
     "execution_count": 11,
     "metadata": {},
     "output_type": "execute_result"
    },
    {
     "data": {
      "image/png": "[encoded data removed]",
      "text/plain": [
       "<Figure size 432x288 with 2 Axes>"
      ]
     },
     "metadata": {
      "needs_background": "light"
     },
     "output_type": "display_data"
    }
   ],
   "source": [
    "sns.heatmap(baseball.isnull())"
   ]
  },
  {
   "cell_type": "code",
   "execution_count": 12,
   "metadata": {},
   "outputs": [
    {
     "data": {
      "text/plain": [
       "<matplotlib.axes._subplots.AxesSubplot at 0x263a5915108>"
      ]
     },
     "execution_count": 12,
     "metadata": {},
     "output_type": "execute_result"
    },
    {
     "data": {
      "image/png": "[encoded data removed]",
      "text/plain": [
       "<Figure size 1440x576 with 2 Axes>"
      ]
     },
     "metadata": {
      "needs_background": "light"
     },
     "output_type": "display_data"
    }
   ],
   "source": [
    "## plotting correlation\n",
    "plt.figure(figsize=(20,8))\n",
    "sns.heatmap(baseball.corr(),annot=True)"
   ]
  },
  {
   "cell_type": "code",
   "execution_count": 13,
   "metadata": {},
   "outputs": [
    {
     "data": {
      "text/html": [
       "<div>\n",
       "<style scoped>\n",
       "    .dataframe tbody tr th:only-of-type {\n",
       "        vertical-align: middle;\n",
       "    }\n",
       "\n",
       "    .dataframe tbody tr th {\n",
       "        vertical-align: top;\n",
       "    }\n",
       "\n",
       "    .dataframe thead th {\n",
       "        text-align: right;\n",
       "    }\n",
       "</style>\n",
       "<table border=\"1\" class=\"dataframe\">\n",
       "  <thead>\n",
       "    <tr style=\"text-align: right;\">\n",
       "      <th></th>\n",
       "      <th>W</th>\n",
       "      <th>R</th>\n",
       "      <th>AB</th>\n",
       "      <th>H</th>\n",
       "      <th>2B</th>\n",
       "      <th>3B</th>\n",
       "      <th>HR</th>\n",
       "      <th>BB</th>\n",
       "      <th>SO</th>\n",
       "      <th>SB</th>\n",
       "      <th>RA</th>\n",
       "      <th>ER</th>\n",
       "      <th>ERA</th>\n",
       "      <th>CG</th>\n",
       "      <th>SHO</th>\n",
       "      <th>SV</th>\n",
       "      <th>E</th>\n",
       "    </tr>\n",
       "  </thead>\n",
       "  <tbody>\n",
       "    <tr>\n",
       "      <td>W</td>\n",
       "      <td>1.000000</td>\n",
       "      <td>0.430751</td>\n",
       "      <td>-0.087947</td>\n",
       "      <td>0.037612</td>\n",
       "      <td>0.427797</td>\n",
       "      <td>-0.251118</td>\n",
       "      <td>0.307407</td>\n",
       "      <td>0.484342</td>\n",
       "      <td>0.111850</td>\n",
       "      <td>-0.157234</td>\n",
       "      <td>-0.812952</td>\n",
       "      <td>-0.809435</td>\n",
       "      <td>-0.819600</td>\n",
       "      <td>0.080533</td>\n",
       "      <td>0.471805</td>\n",
       "      <td>0.666530</td>\n",
       "      <td>-0.089485</td>\n",
       "    </tr>\n",
       "    <tr>\n",
       "      <td>R</td>\n",
       "      <td>0.430751</td>\n",
       "      <td>1.000000</td>\n",
       "      <td>0.319464</td>\n",
       "      <td>0.482856</td>\n",
       "      <td>0.560084</td>\n",
       "      <td>-0.070072</td>\n",
       "      <td>0.671283</td>\n",
       "      <td>0.402452</td>\n",
       "      <td>-0.054726</td>\n",
       "      <td>0.081367</td>\n",
       "      <td>-0.041623</td>\n",
       "      <td>-0.041245</td>\n",
       "      <td>-0.049281</td>\n",
       "      <td>0.232042</td>\n",
       "      <td>-0.103274</td>\n",
       "      <td>-0.096380</td>\n",
       "      <td>-0.023262</td>\n",
       "    </tr>\n",
       "    <tr>\n",
       "      <td>AB</td>\n",
       "      <td>-0.087947</td>\n",
       "      <td>0.319464</td>\n",
       "      <td>1.000000</td>\n",
       "      <td>0.739122</td>\n",
       "      <td>0.453370</td>\n",
       "      <td>0.435422</td>\n",
       "      <td>-0.066983</td>\n",
       "      <td>-0.136414</td>\n",
       "      <td>-0.106022</td>\n",
       "      <td>0.372618</td>\n",
       "      <td>0.316010</td>\n",
       "      <td>0.309686</td>\n",
       "      <td>0.255551</td>\n",
       "      <td>-0.080876</td>\n",
       "      <td>-0.197321</td>\n",
       "      <td>-0.106367</td>\n",
       "      <td>0.316743</td>\n",
       "    </tr>\n",
       "    <tr>\n",
       "      <td>H</td>\n",
       "      <td>0.037612</td>\n",
       "      <td>0.482856</td>\n",
       "      <td>0.739122</td>\n",
       "      <td>1.000000</td>\n",
       "      <td>0.566847</td>\n",
       "      <td>0.478694</td>\n",
       "      <td>-0.090855</td>\n",
       "      <td>-0.118281</td>\n",
       "      <td>-0.398830</td>\n",
       "      <td>0.413444</td>\n",
       "      <td>0.224324</td>\n",
       "      <td>0.252489</td>\n",
       "      <td>0.231172</td>\n",
       "      <td>0.147955</td>\n",
       "      <td>-0.145559</td>\n",
       "      <td>-0.130371</td>\n",
       "      <td>-0.033173</td>\n",
       "    </tr>\n",
       "    <tr>\n",
       "      <td>2B</td>\n",
       "      <td>0.427797</td>\n",
       "      <td>0.560084</td>\n",
       "      <td>0.453370</td>\n",
       "      <td>0.566847</td>\n",
       "      <td>1.000000</td>\n",
       "      <td>0.220490</td>\n",
       "      <td>0.056292</td>\n",
       "      <td>0.302700</td>\n",
       "      <td>-0.150752</td>\n",
       "      <td>0.195027</td>\n",
       "      <td>-0.218160</td>\n",
       "      <td>-0.235531</td>\n",
       "      <td>-0.254854</td>\n",
       "      <td>0.306675</td>\n",
       "      <td>0.057998</td>\n",
       "      <td>0.171576</td>\n",
       "      <td>0.105754</td>\n",
       "    </tr>\n",
       "    <tr>\n",
       "      <td>3B</td>\n",
       "      <td>-0.251118</td>\n",
       "      <td>-0.070072</td>\n",
       "      <td>0.435422</td>\n",
       "      <td>0.478694</td>\n",
       "      <td>0.220490</td>\n",
       "      <td>1.000000</td>\n",
       "      <td>-0.430915</td>\n",
       "      <td>-0.454949</td>\n",
       "      <td>-0.141196</td>\n",
       "      <td>0.457437</td>\n",
       "      <td>0.314125</td>\n",
       "      <td>0.340225</td>\n",
       "      <td>0.330951</td>\n",
       "      <td>-0.065898</td>\n",
       "      <td>-0.041396</td>\n",
       "      <td>-0.142370</td>\n",
       "      <td>0.126678</td>\n",
       "    </tr>\n",
       "    <tr>\n",
       "      <td>HR</td>\n",
       "      <td>0.307407</td>\n",
       "      <td>0.671283</td>\n",
       "      <td>-0.066983</td>\n",
       "      <td>-0.090855</td>\n",
       "      <td>0.056292</td>\n",
       "      <td>-0.430915</td>\n",
       "      <td>1.000000</td>\n",
       "      <td>0.425691</td>\n",
       "      <td>0.359923</td>\n",
       "      <td>-0.136567</td>\n",
       "      <td>-0.103903</td>\n",
       "      <td>-0.085922</td>\n",
       "      <td>-0.090917</td>\n",
       "      <td>0.156502</td>\n",
       "      <td>-0.019119</td>\n",
       "      <td>-0.028540</td>\n",
       "      <td>-0.207597</td>\n",
       "    </tr>\n",
       "    <tr>\n",
       "      <td>BB</td>\n",
       "      <td>0.484342</td>\n",
       "      <td>0.402452</td>\n",
       "      <td>-0.136414</td>\n",
       "      <td>-0.118281</td>\n",
       "      <td>0.302700</td>\n",
       "      <td>-0.454949</td>\n",
       "      <td>0.425691</td>\n",
       "      <td>1.000000</td>\n",
       "      <td>0.233652</td>\n",
       "      <td>-0.098347</td>\n",
       "      <td>-0.416445</td>\n",
       "      <td>-0.452663</td>\n",
       "      <td>-0.459832</td>\n",
       "      <td>0.462478</td>\n",
       "      <td>0.426004</td>\n",
       "      <td>0.099445</td>\n",
       "      <td>-0.075685</td>\n",
       "    </tr>\n",
       "    <tr>\n",
       "      <td>SO</td>\n",
       "      <td>0.111850</td>\n",
       "      <td>-0.054726</td>\n",
       "      <td>-0.106022</td>\n",
       "      <td>-0.398830</td>\n",
       "      <td>-0.150752</td>\n",
       "      <td>-0.141196</td>\n",
       "      <td>0.359923</td>\n",
       "      <td>0.233652</td>\n",
       "      <td>1.000000</td>\n",
       "      <td>0.030968</td>\n",
       "      <td>-0.129745</td>\n",
       "      <td>-0.161612</td>\n",
       "      <td>-0.180368</td>\n",
       "      <td>-0.093418</td>\n",
       "      <td>0.237721</td>\n",
       "      <td>0.126297</td>\n",
       "      <td>0.155133</td>\n",
       "    </tr>\n",
       "    <tr>\n",
       "      <td>SB</td>\n",
       "      <td>-0.157234</td>\n",
       "      <td>0.081367</td>\n",
       "      <td>0.372618</td>\n",
       "      <td>0.413444</td>\n",
       "      <td>0.195027</td>\n",
       "      <td>0.457437</td>\n",
       "      <td>-0.136567</td>\n",
       "      <td>-0.098347</td>\n",
       "      <td>0.030968</td>\n",
       "      <td>1.000000</td>\n",
       "      <td>0.132290</td>\n",
       "      <td>0.143068</td>\n",
       "      <td>0.126063</td>\n",
       "      <td>-0.020783</td>\n",
       "      <td>-0.106563</td>\n",
       "      <td>-0.183418</td>\n",
       "      <td>0.079149</td>\n",
       "    </tr>\n",
       "    <tr>\n",
       "      <td>RA</td>\n",
       "      <td>-0.812952</td>\n",
       "      <td>-0.041623</td>\n",
       "      <td>0.316010</td>\n",
       "      <td>0.224324</td>\n",
       "      <td>-0.218160</td>\n",
       "      <td>0.314125</td>\n",
       "      <td>-0.103903</td>\n",
       "      <td>-0.416445</td>\n",
       "      <td>-0.129745</td>\n",
       "      <td>0.132290</td>\n",
       "      <td>1.000000</td>\n",
       "      <td>0.991018</td>\n",
       "      <td>0.986674</td>\n",
       "      <td>-0.016659</td>\n",
       "      <td>-0.636862</td>\n",
       "      <td>-0.616224</td>\n",
       "      <td>0.198996</td>\n",
       "    </tr>\n",
       "    <tr>\n",
       "      <td>ER</td>\n",
       "      <td>-0.809435</td>\n",
       "      <td>-0.041245</td>\n",
       "      <td>0.309686</td>\n",
       "      <td>0.252489</td>\n",
       "      <td>-0.235531</td>\n",
       "      <td>0.340225</td>\n",
       "      <td>-0.085922</td>\n",
       "      <td>-0.452663</td>\n",
       "      <td>-0.161612</td>\n",
       "      <td>0.143068</td>\n",
       "      <td>0.991018</td>\n",
       "      <td>1.000000</td>\n",
       "      <td>0.997248</td>\n",
       "      <td>-0.020221</td>\n",
       "      <td>-0.630192</td>\n",
       "      <td>-0.589663</td>\n",
       "      <td>0.136921</td>\n",
       "    </tr>\n",
       "    <tr>\n",
       "      <td>ERA</td>\n",
       "      <td>-0.819600</td>\n",
       "      <td>-0.049281</td>\n",
       "      <td>0.255551</td>\n",
       "      <td>0.231172</td>\n",
       "      <td>-0.254854</td>\n",
       "      <td>0.330951</td>\n",
       "      <td>-0.090917</td>\n",
       "      <td>-0.459832</td>\n",
       "      <td>-0.180368</td>\n",
       "      <td>0.126063</td>\n",
       "      <td>0.986674</td>\n",
       "      <td>0.997248</td>\n",
       "      <td>1.000000</td>\n",
       "      <td>-0.009856</td>\n",
       "      <td>-0.630833</td>\n",
       "      <td>-0.607005</td>\n",
       "      <td>0.113137</td>\n",
       "    </tr>\n",
       "    <tr>\n",
       "      <td>CG</td>\n",
       "      <td>0.080533</td>\n",
       "      <td>0.232042</td>\n",
       "      <td>-0.080876</td>\n",
       "      <td>0.147955</td>\n",
       "      <td>0.306675</td>\n",
       "      <td>-0.065898</td>\n",
       "      <td>0.156502</td>\n",
       "      <td>0.462478</td>\n",
       "      <td>-0.093418</td>\n",
       "      <td>-0.020783</td>\n",
       "      <td>-0.016659</td>\n",
       "      <td>-0.020221</td>\n",
       "      <td>-0.009856</td>\n",
       "      <td>1.000000</td>\n",
       "      <td>0.241676</td>\n",
       "      <td>-0.367766</td>\n",
       "      <td>-0.140047</td>\n",
       "    </tr>\n",
       "    <tr>\n",
       "      <td>SHO</td>\n",
       "      <td>0.471805</td>\n",
       "      <td>-0.103274</td>\n",
       "      <td>-0.197321</td>\n",
       "      <td>-0.145559</td>\n",
       "      <td>0.057998</td>\n",
       "      <td>-0.041396</td>\n",
       "      <td>-0.019119</td>\n",
       "      <td>0.426004</td>\n",
       "      <td>0.237721</td>\n",
       "      <td>-0.106563</td>\n",
       "      <td>-0.636862</td>\n",
       "      <td>-0.630192</td>\n",
       "      <td>-0.630833</td>\n",
       "      <td>0.241676</td>\n",
       "      <td>1.000000</td>\n",
       "      <td>0.221639</td>\n",
       "      <td>-0.115716</td>\n",
       "    </tr>\n",
       "    <tr>\n",
       "      <td>SV</td>\n",
       "      <td>0.666530</td>\n",
       "      <td>-0.096380</td>\n",
       "      <td>-0.106367</td>\n",
       "      <td>-0.130371</td>\n",
       "      <td>0.171576</td>\n",
       "      <td>-0.142370</td>\n",
       "      <td>-0.028540</td>\n",
       "      <td>0.099445</td>\n",
       "      <td>0.126297</td>\n",
       "      <td>-0.183418</td>\n",
       "      <td>-0.616224</td>\n",
       "      <td>-0.589663</td>\n",
       "      <td>-0.607005</td>\n",
       "      <td>-0.367766</td>\n",
       "      <td>0.221639</td>\n",
       "      <td>1.000000</td>\n",
       "      <td>-0.025636</td>\n",
       "    </tr>\n",
       "    <tr>\n",
       "      <td>E</td>\n",
       "      <td>-0.089485</td>\n",
       "      <td>-0.023262</td>\n",
       "      <td>0.316743</td>\n",
       "      <td>-0.033173</td>\n",
       "      <td>0.105754</td>\n",
       "      <td>0.126678</td>\n",
       "      <td>-0.207597</td>\n",
       "      <td>-0.075685</td>\n",
       "      <td>0.155133</td>\n",
       "      <td>0.079149</td>\n",
       "      <td>0.198996</td>\n",
       "      <td>0.136921</td>\n",
       "      <td>0.113137</td>\n",
       "      <td>-0.140047</td>\n",
       "      <td>-0.115716</td>\n",
       "      <td>-0.025636</td>\n",
       "      <td>1.000000</td>\n",
       "    </tr>\n",
       "  </tbody>\n",
       "</table>\n",
       "</div>"
      ],
      "text/plain": [
       "            W         R        AB         H        2B        3B        HR  \\\n",
       "W    1.000000  0.430751 -0.087947  0.037612  0.427797 -0.251118  0.307407   \n",
       "R    0.430751  1.000000  0.319464  0.482856  0.560084 -0.070072  0.671283   \n",
       "AB  -0.087947  0.319464  1.000000  0.739122  0.453370  0.435422 -0.066983   \n",
       "H    0.037612  0.482856  0.739122  1.000000  0.566847  0.478694 -0.090855   \n",
       "2B   0.427797  0.560084  0.453370  0.566847  1.000000  0.220490  0.056292   \n",
       "3B  -0.251118 -0.070072  0.435422  0.478694  0.220490  1.000000 -0.430915   \n",
       "HR   0.307407  0.671283 -0.066983 -0.090855  0.056292 -0.430915  1.000000   \n",
       "BB   0.484342  0.402452 -0.136414 -0.118281  0.302700 -0.454949  0.425691   \n",
       "SO   0.111850 -0.054726 -0.106022 -0.398830 -0.150752 -0.141196  0.359923   \n",
       "SB  -0.157234  0.081367  0.372618  0.413444  0.195027  0.457437 -0.136567   \n",
       "RA  -0.812952 -0.041623  0.316010  0.224324 -0.218160  0.314125 -0.103903   \n",
       "ER  -0.809435 -0.041245  0.309686  0.252489 -0.235531  0.340225 -0.085922   \n",
       "ERA -0.819600 -0.049281  0.255551  0.231172 -0.254854  0.330951 -0.090917   \n",
       "CG   0.080533  0.232042 -0.080876  0.147955  0.306675 -0.065898  0.156502   \n",
       "SHO  0.471805 -0.103274 -0.197321 -0.145559  0.057998 -0.041396 -0.019119   \n",
       "SV   0.666530 -0.096380 -0.106367 -0.130371  0.171576 -0.142370 -0.028540   \n",
       "E   -0.089485 -0.023262  0.316743 -0.033173  0.105754  0.126678 -0.207597   \n",
       "\n",
       "           BB        SO        SB        RA        ER       ERA        CG  \\\n",
       "W    0.484342  0.111850 -0.157234 -0.812952 -0.809435 -0.819600  0.080533   \n",
       "R    0.402452 -0.054726  0.081367 -0.041623 -0.041245 -0.049281  0.232042   \n",
       "AB  -0.136414 -0.106022  0.372618  0.316010  0.309686  0.255551 -0.080876   \n",
       "H   -0.118281 -0.398830  0.413444  0.224324  0.252489  0.231172  0.147955   \n",
       "2B   0.302700 -0.150752  0.195027 -0.218160 -0.235531 -0.254854  0.306675   \n",
       "3B  -0.454949 -0.141196  0.457437  0.314125  0.340225  0.330951 -0.065898   \n",
       "HR   0.425691  0.359923 -0.136567 -0.103903 -0.085922 -0.090917  0.156502   \n",
       "BB   1.000000  0.233652 -0.098347 -0.416445 -0.452663 -0.459832  0.462478   \n",
       "SO   0.233652  1.000000  0.030968 -0.129745 -0.161612 -0.180368 -0.093418   \n",
       "SB  -0.098347  0.030968  1.000000  0.132290  0.143068  0.126063 -0.020783   \n",
       "RA  -0.416445 -0.129745  0.132290  1.000000  0.991018  0.986674 -0.016659   \n",
       "ER  -0.452663 -0.161612  0.143068  0.991018  1.000000  0.997248 -0.020221   \n",
       "ERA -0.459832 -0.180368  0.126063  0.986674  0.997248  1.000000 -0.009856   \n",
       "CG   0.462478 -0.093418 -0.020783 -0.016659 -0.020221 -0.009856  1.000000   \n",
       "SHO  0.426004  0.237721 -0.106563 -0.636862 -0.630192 -0.630833  0.241676   \n",
       "SV   0.099445  0.126297 -0.183418 -0.616224 -0.589663 -0.607005 -0.367766   \n",
       "E   -0.075685  0.155133  0.079149  0.198996  0.136921  0.113137 -0.140047   \n",
       "\n",
       "          SHO        SV         E  \n",
       "W    0.471805  0.666530 -0.089485  \n",
       "R   -0.103274 -0.096380 -0.023262  \n",
       "AB  -0.197321 -0.106367  0.316743  \n",
       "H   -0.145559 -0.130371 -0.033173  \n",
       "2B   0.057998  0.171576  0.105754  \n",
       "3B  -0.041396 -0.142370  0.126678  \n",
       "HR  -0.019119 -0.028540 -0.207597  \n",
       "BB   0.426004  0.099445 -0.075685  \n",
       "SO   0.237721  0.126297  0.155133  \n",
       "SB  -0.106563 -0.183418  0.079149  \n",
       "RA  -0.636862 -0.616224  0.198996  \n",
       "ER  -0.630192 -0.589663  0.136921  \n",
       "ERA -0.630833 -0.607005  0.113137  \n",
       "CG   0.241676 -0.367766 -0.140047  \n",
       "SHO  1.000000  0.221639 -0.115716  \n",
       "SV   0.221639  1.000000 -0.025636  \n",
       "E   -0.115716 -0.025636  1.000000  "
      ]
     },
     "execution_count": 13,
     "metadata": {},
     "output_type": "execute_result"
    }
   ],
   "source": [
    "baseball.corr() # correlation baseball columns"
   ]
  },
  {
   "cell_type": "code",
   "execution_count": 14,
   "metadata": {},
   "outputs": [
    {
     "data": {
      "text/plain": [
       "W      0.047089\n",
       "R      1.200786\n",
       "AB     0.183437\n",
       "H      0.670254\n",
       "2B    -0.230650\n",
       "3B     0.129502\n",
       "HR     0.516441\n",
       "BB     0.158498\n",
       "SO    -0.156065\n",
       "SB     0.479893\n",
       "RA     0.045734\n",
       "ER     0.058710\n",
       "ERA    0.053331\n",
       "CG     0.736845\n",
       "SHO    0.565790\n",
       "SV     0.657524\n",
       "E      0.890132\n",
       "dtype: float64"
      ]
     },
     "execution_count": 14,
     "metadata": {},
     "output_type": "execute_result"
    }
   ],
   "source": [
    "baseball.skew() # skewness of data"
   ]
  },
  {
   "cell_type": "code",
   "execution_count": 15,
   "metadata": {},
   "outputs": [],
   "source": [
    "from scipy import stats"
   ]
  },
  {
   "cell_type": "code",
   "execution_count": 16,
   "metadata": {},
   "outputs": [],
   "source": [
    "# treating skewness of dataset\n",
    "for col in baseball.columns:\n",
    "    if baseball.skew().loc[col]>0.55:\n",
    "        baseball[col]=np.log1p(baseball[col])"
   ]
  },
  {
   "cell_type": "code",
   "execution_count": 17,
   "metadata": {},
   "outputs": [
    {
     "data": {
      "text/plain": [
       "W      0.047089\n",
       "R      0.744813\n",
       "AB     0.183437\n",
       "H      0.628584\n",
       "2B    -0.230650\n",
       "3B     0.129502\n",
       "HR     0.516441\n",
       "BB     0.158498\n",
       "SO    -0.156065\n",
       "SB     0.479893\n",
       "RA     0.045734\n",
       "ER     0.058710\n",
       "ERA    0.053331\n",
       "CG    -0.325962\n",
       "SHO   -0.589640\n",
       "SV     0.163057\n",
       "E      0.632916\n",
       "dtype: float64"
      ]
     },
     "execution_count": 17,
     "metadata": {},
     "output_type": "execute_result"
    }
   ],
   "source": [
    "baseball.skew()"
   ]
  },
  {
   "cell_type": "code",
   "execution_count": 18,
   "metadata": {},
   "outputs": [
    {
     "data": {
      "text/html": [
       "<div>\n",
       "<style scoped>\n",
       "    .dataframe tbody tr th:only-of-type {\n",
       "        vertical-align: middle;\n",
       "    }\n",
       "\n",
       "    .dataframe tbody tr th {\n",
       "        vertical-align: top;\n",
       "    }\n",
       "\n",
       "    .dataframe thead th {\n",
       "        text-align: right;\n",
       "    }\n",
       "</style>\n",
       "<table border=\"1\" class=\"dataframe\">\n",
       "  <thead>\n",
       "    <tr style=\"text-align: right;\">\n",
       "      <th></th>\n",
       "      <th>W</th>\n",
       "      <th>R</th>\n",
       "      <th>AB</th>\n",
       "      <th>H</th>\n",
       "      <th>2B</th>\n",
       "      <th>3B</th>\n",
       "      <th>HR</th>\n",
       "      <th>BB</th>\n",
       "      <th>SO</th>\n",
       "      <th>SB</th>\n",
       "      <th>RA</th>\n",
       "      <th>ER</th>\n",
       "      <th>ERA</th>\n",
       "      <th>CG</th>\n",
       "      <th>SHO</th>\n",
       "      <th>SV</th>\n",
       "      <th>E</th>\n",
       "    </tr>\n",
       "  </thead>\n",
       "  <tbody>\n",
       "    <tr>\n",
       "      <td>0</td>\n",
       "      <td>95</td>\n",
       "      <td>6.586172</td>\n",
       "      <td>5575</td>\n",
       "      <td>7.311886</td>\n",
       "      <td>300</td>\n",
       "      <td>42</td>\n",
       "      <td>139</td>\n",
       "      <td>383</td>\n",
       "      <td>973</td>\n",
       "      <td>104</td>\n",
       "      <td>641</td>\n",
       "      <td>601</td>\n",
       "      <td>3.73</td>\n",
       "      <td>1.098612</td>\n",
       "      <td>2.197225</td>\n",
       "      <td>4.043051</td>\n",
       "      <td>4.488636</td>\n",
       "    </tr>\n",
       "    <tr>\n",
       "      <td>1</td>\n",
       "      <td>83</td>\n",
       "      <td>6.546785</td>\n",
       "      <td>5467</td>\n",
       "      <td>7.207860</td>\n",
       "      <td>277</td>\n",
       "      <td>44</td>\n",
       "      <td>156</td>\n",
       "      <td>439</td>\n",
       "      <td>1264</td>\n",
       "      <td>70</td>\n",
       "      <td>700</td>\n",
       "      <td>653</td>\n",
       "      <td>4.07</td>\n",
       "      <td>1.098612</td>\n",
       "      <td>2.564949</td>\n",
       "      <td>3.828641</td>\n",
       "      <td>4.465908</td>\n",
       "    </tr>\n",
       "    <tr>\n",
       "      <td>2</td>\n",
       "      <td>81</td>\n",
       "      <td>6.507278</td>\n",
       "      <td>5439</td>\n",
       "      <td>7.241366</td>\n",
       "      <td>303</td>\n",
       "      <td>29</td>\n",
       "      <td>141</td>\n",
       "      <td>533</td>\n",
       "      <td>1157</td>\n",
       "      <td>86</td>\n",
       "      <td>640</td>\n",
       "      <td>584</td>\n",
       "      <td>3.67</td>\n",
       "      <td>2.484907</td>\n",
       "      <td>2.397895</td>\n",
       "      <td>3.663562</td>\n",
       "      <td>4.382027</td>\n",
       "    </tr>\n",
       "    <tr>\n",
       "      <td>3</td>\n",
       "      <td>76</td>\n",
       "      <td>6.434547</td>\n",
       "      <td>5533</td>\n",
       "      <td>7.231287</td>\n",
       "      <td>260</td>\n",
       "      <td>27</td>\n",
       "      <td>136</td>\n",
       "      <td>404</td>\n",
       "      <td>1231</td>\n",
       "      <td>68</td>\n",
       "      <td>701</td>\n",
       "      <td>643</td>\n",
       "      <td>3.98</td>\n",
       "      <td>2.079442</td>\n",
       "      <td>2.302585</td>\n",
       "      <td>3.637586</td>\n",
       "      <td>4.624973</td>\n",
       "    </tr>\n",
       "    <tr>\n",
       "      <td>4</td>\n",
       "      <td>74</td>\n",
       "      <td>6.536692</td>\n",
       "      <td>5605</td>\n",
       "      <td>7.323831</td>\n",
       "      <td>289</td>\n",
       "      <td>49</td>\n",
       "      <td>151</td>\n",
       "      <td>455</td>\n",
       "      <td>1259</td>\n",
       "      <td>83</td>\n",
       "      <td>803</td>\n",
       "      <td>746</td>\n",
       "      <td>4.64</td>\n",
       "      <td>2.079442</td>\n",
       "      <td>2.564949</td>\n",
       "      <td>3.583519</td>\n",
       "      <td>4.465908</td>\n",
       "    </tr>\n",
       "  </tbody>\n",
       "</table>\n",
       "</div>"
      ],
      "text/plain": [
       "    W         R    AB         H   2B  3B   HR   BB    SO   SB   RA   ER   ERA  \\\n",
       "0  95  6.586172  5575  7.311886  300  42  139  383   973  104  641  601  3.73   \n",
       "1  83  6.546785  5467  7.207860  277  44  156  439  1264   70  700  653  4.07   \n",
       "2  81  6.507278  5439  7.241366  303  29  141  533  1157   86  640  584  3.67   \n",
       "3  76  6.434547  5533  7.231287  260  27  136  404  1231   68  701  643  3.98   \n",
       "4  74  6.536692  5605  7.323831  289  49  151  455  1259   83  803  746  4.64   \n",
       "\n",
       "         CG       SHO        SV         E  \n",
       "0  1.098612  2.197225  4.043051  4.488636  \n",
       "1  1.098612  2.564949  3.828641  4.465908  \n",
       "2  2.484907  2.397895  3.663562  4.382027  \n",
       "3  2.079442  2.302585  3.637586  4.624973  \n",
       "4  2.079442  2.564949  3.583519  4.465908  "
      ]
     },
     "execution_count": 18,
     "metadata": {},
     "output_type": "execute_result"
    }
   ],
   "source": [
    "baseball.head()"
   ]
  },
  {
   "cell_type": "code",
   "execution_count": 19,
   "metadata": {},
   "outputs": [
    {
     "data": {
      "text/plain": [
       "<matplotlib.axes._subplots.AxesSubplot at 0x263a5a50a08>"
      ]
     },
     "execution_count": 19,
     "metadata": {},
     "output_type": "execute_result"
    },
    {
     "data": {
      "image/png": "[encoded data removed]",
      "text/plain": [
       "<Figure size 432x288 with 1 Axes>"
      ]
     },
     "metadata": {
      "needs_background": "light"
     },
     "output_type": "display_data"
    }
   ],
   "source": [
    "# plotting target variable w\n",
    "baseball['W'].plot.hist()"
   ]
  },
  {
   "cell_type": "code",
   "execution_count": 20,
   "metadata": {},
   "outputs": [
    {
     "data": {
      "text/plain": [
       "<matplotlib.axes._subplots.AxesSubplot at 0x263a6089288>"
      ]
     },
     "execution_count": 20,
     "metadata": {},
     "output_type": "execute_result"
    },
    {
     "data": {
      "image/png": "[encoded data removed]",
      "text/plain": [
       "<Figure size 432x288 with 1 Axes>"
      ]
     },
     "metadata": {
      "needs_background": "light"
     },
     "output_type": "display_data"
    }
   ],
   "source": [
    "sns.boxplot(baseball['W']) # MOSTLY WINS OCCURING BW 72-88"
   ]
  },
  {
   "cell_type": "code",
   "execution_count": 21,
   "metadata": {},
   "outputs": [
    {
     "data": {
      "text/plain": [
       "<matplotlib.axes._subplots.AxesSubplot at 0x263a5ac7c08>"
      ]
     },
     "execution_count": 21,
     "metadata": {},
     "output_type": "execute_result"
    },
    {
     "data": {
      "image/png": "[encoded data removed]",
      "text/plain": [
       "<Figure size 432x288 with 1 Axes>"
      ]
     },
     "metadata": {
      "needs_background": "light"
     },
     "output_type": "display_data"
    }
   ],
   "source": [
    "sns.lineplot(x='W',y='R',data=baseball) # RUNS VS WINS"
   ]
  },
  {
   "cell_type": "code",
   "execution_count": 22,
   "metadata": {},
   "outputs": [
    {
     "data": {
      "text/plain": [
       "<matplotlib.axes._subplots.AxesSubplot at 0x263a5b56148>"
      ]
     },
     "execution_count": 22,
     "metadata": {},
     "output_type": "execute_result"
    },
    {
     "data": {
      "image/png": "[encoded data removed]",
      "text/plain": [
       "<Figure size 432x288 with 1 Axes>"
      ]
     },
     "metadata": {
      "needs_background": "light"
     },
     "output_type": "display_data"
    }
   ],
   "source": [
    "sns.lineplot(x='W',y='AB',data=baseball)"
   ]
  },
  {
   "cell_type": "code",
   "execution_count": 23,
   "metadata": {},
   "outputs": [
    {
     "data": {
      "text/plain": [
       "<matplotlib.axes._subplots.AxesSubplot at 0x263a5bc4708>"
      ]
     },
     "execution_count": 23,
     "metadata": {},
     "output_type": "execute_result"
    },
    {
     "data": {
      "image/png": "[encoded data removed]",
      "text/plain": [
       "<Figure size 432x288 with 1 Axes>"
      ]
     },
     "metadata": {
      "needs_background": "light"
     },
     "output_type": "display_data"
    }
   ],
   "source": [
    "sns.lineplot(x='W',y='H',data=baseball)"
   ]
  },
  {
   "cell_type": "code",
   "execution_count": 24,
   "metadata": {},
   "outputs": [
    {
     "data": {
      "text/plain": [
       "<seaborn.axisgrid.PairGrid at 0x263a5c33a08>"
      ]
     },
     "execution_count": 24,
     "metadata": {},
     "output_type": "execute_result"
    },
    {
     "data": {
      "image/png": "[encoded data removed]",
      "text/plain": [
       "<Figure size 1360.8x648 with 3 Axes>"
      ]
     },
     "metadata": {
      "needs_background": "light"
     },
     "output_type": "display_data"
    }
   ],
   "source": [
    "sns.pairplot(baseball,x_vars=['2B','3B','HR'],y_vars='W',size=9,aspect=0.7,kind=\"reg\")\n",
    "#\n",
    "#  2 RUNS, 3 RUNS , HOME RUNS REGRESSION WITH WINS"
   ]
  },
  {
   "cell_type": "code",
   "execution_count": 25,
   "metadata": {},
   "outputs": [
    {
     "data": {
      "text/plain": [
       "<matplotlib.axes._subplots.AxesSubplot at 0x263a5d1cc48>"
      ]
     },
     "execution_count": 25,
     "metadata": {},
     "output_type": "execute_result"
    },
    {
     "data": {
      "image/png": "[encoded data removed]",
      "text/plain": [
       "<Figure size 432x288 with 1 Axes>"
      ]
     },
     "metadata": {
      "needs_background": "light"
     },
     "output_type": "display_data"
    }
   ],
   "source": [
    "sns.boxplot(x='W',y='BB',data=baseball)"
   ]
  },
  {
   "cell_type": "code",
   "execution_count": 26,
   "metadata": {},
   "outputs": [
    {
     "data": {
      "text/plain": [
       "<matplotlib.axes._subplots.AxesSubplot at 0x263a5242548>"
      ]
     },
     "execution_count": 26,
     "metadata": {},
     "output_type": "execute_result"
    },
    {
     "data": {
      "image/png": "[encoded data removed]",
      "text/plain": [
       "<Figure size 432x288 with 1 Axes>"
      ]
     },
     "metadata": {
      "needs_background": "light"
     },
     "output_type": "display_data"
    }
   ],
   "source": [
    "sns.boxplot(x='W',y='SO',data=baseball)"
   ]
  },
  {
   "cell_type": "code",
   "execution_count": 27,
   "metadata": {},
   "outputs": [
    {
     "data": {
      "text/plain": [
       "<matplotlib.axes._subplots.AxesSubplot at 0x263a4f2e288>"
      ]
     },
     "execution_count": 27,
     "metadata": {},
     "output_type": "execute_result"
    },
    {
     "data": {
      "image/png": "[encoded data removed]",
      "text/plain": [
       "<Figure size 432x288 with 1 Axes>"
      ]
     },
     "metadata": {
      "needs_background": "light"
     },
     "output_type": "display_data"
    }
   ],
   "source": [
    "sns.boxplot(x=\"W\",y='SB',data=baseball)"
   ]
  },
  {
   "cell_type": "code",
   "execution_count": 28,
   "metadata": {},
   "outputs": [
    {
     "data": {
      "text/plain": [
       "<matplotlib.collections.PathCollection at 0x263a80db8c8>"
      ]
     },
     "execution_count": 28,
     "metadata": {},
     "output_type": "execute_result"
    },
    {
     "data": {
      "image/png": "[encoded data removed]",
      "text/plain": [
       "<Figure size 432x288 with 1 Axes>"
      ]
     },
     "metadata": {
      "needs_background": "light"
     },
     "output_type": "display_data"
    }
   ],
   "source": [
    "plt.scatter(x='ERA',y='W',data=baseball)"
   ]
  },
  {
   "cell_type": "code",
   "execution_count": 29,
   "metadata": {},
   "outputs": [
    {
     "data": {
      "text/plain": [
       "<seaborn.axisgrid.PairGrid at 0x263a810e888>"
      ]
     },
     "execution_count": 29,
     "metadata": {},
     "output_type": "execute_result"
    },
    {
     "data": {
      "image/png": "[encoded data removed]",
      "text/plain": [
       "<Figure size 1360.8x648 with 3 Axes>"
      ]
     },
     "metadata": {
      "needs_background": "light"
     },
     "output_type": "display_data"
    }
   ],
   "source": [
    "sns.pairplot(baseball,x_vars=['RA','ER','ERA'],y_vars='W',size=9,aspect=0.7,kind=\"reg\")"
   ]
  },
  {
   "cell_type": "code",
   "execution_count": 30,
   "metadata": {},
   "outputs": [
    {
     "data": {
      "text/plain": [
       "<seaborn.axisgrid.PairGrid at 0x263a859f588>"
      ]
     },
     "execution_count": 30,
     "metadata": {},
     "output_type": "execute_result"
    },
    {
     "data": {
      "image/png": "[encoded data removed]",
      "text/plain": [
       "<Figure size 604.8x432 with 2 Axes>"
      ]
     },
     "metadata": {
      "needs_background": "light"
     },
     "output_type": "display_data"
    }
   ],
   "source": [
    "sns.pairplot(baseball,x_vars=['SHO','SV'],y_vars='W',size=6,aspect=0.7,kind=\"reg\")"
   ]
  },
  {
   "cell_type": "code",
   "execution_count": 31,
   "metadata": {},
   "outputs": [
    {
     "data": {
      "text/plain": [
       "<seaborn.axisgrid.PairGrid at 0x263a89fc3c8>"
      ]
     },
     "execution_count": 31,
     "metadata": {},
     "output_type": "execute_result"
    },
    {
     "data": {
      "image/png": "[encoded data removed]",
      "text/plain": [
       "<Figure size 453.6x648 with 1 Axes>"
      ]
     },
     "metadata": {
      "needs_background": "light"
     },
     "output_type": "display_data"
    }
   ],
   "source": [
    "sns.pairplot(baseball,x_vars='E',y_vars='W',size=9,aspect=0.7,kind=\"reg\")\n",
    "\n",
    "#  ERROR VS WINS"
   ]
  },
  {
   "cell_type": "code",
   "execution_count": 32,
   "metadata": {},
   "outputs": [
    {
     "data": {
      "text/plain": [
       "<matplotlib.axes._subplots.AxesSubplot at 0x263a8b87148>"
      ]
     },
     "execution_count": 32,
     "metadata": {},
     "output_type": "execute_result"
    },
    {
     "data": {
      "image/png": "[encoded data removed]",
      "text/plain": [
       "<Figure size 432x288 with 1 Axes>"
      ]
     },
     "metadata": {
      "needs_background": "light"
     },
     "output_type": "display_data"
    }
   ],
   "source": [
    "sns.lineplot(x='W',y='E',data=baseball)"
   ]
  },
  {
   "cell_type": "code",
   "execution_count": 33,
   "metadata": {},
   "outputs": [
    {
     "data": {
      "image/png": "[encoded data removed]",
      "text/plain": [
       "<Figure size 1440x1440 with 20 Axes>"
      ]
     },
     "metadata": {
      "needs_background": "light"
     },
     "output_type": "display_data"
    }
   ],
   "source": [
    "baseball.hist(figsize=(20,20))\n",
    "plt.show()"
   ]
  },
  {
   "cell_type": "code",
   "execution_count": 34,
   "metadata": {},
   "outputs": [],
   "source": [
    "from scipy.stats import zscore\n",
    "# TREATING OUTLIERS"
   ]
  },
  {
   "cell_type": "code",
   "execution_count": 35,
   "metadata": {},
   "outputs": [],
   "source": [
    "z=np.abs(zscore(baseball))"
   ]
  },
  {
   "cell_type": "code",
   "execution_count": 36,
   "metadata": {},
   "outputs": [
    {
     "data": {
      "text/plain": [
       "array([[1.3654086 , 0.66532946, 0.84773126, 1.64938177, 1.42017307,\n",
       "        1.04119304, 0.7872986 , 1.53490242, 2.69762957, 0.91388329,\n",
       "        0.66623393, 0.50511008, 0.50695519, 0.27892148, 0.72910756,\n",
       "        1.58127344, 0.42706021],\n",
       "       [0.1978383 , 0.17956168, 0.71109353, 0.98165584, 0.12740339,\n",
       "        1.23580856, 0.24396668, 0.5365919 , 0.15487844, 0.60182558,\n",
       "        0.16597077, 0.24892985, 0.25459752, 0.27892148, 0.32263825,\n",
       "        0.336185  , 0.59169263],\n",
       "       [0.00324325, 0.30770406, 1.1152333 , 0.13421019, 1.58879521,\n",
       "        0.22380785, 0.7233772 , 1.13914361, 0.89398189, 0.11144918,\n",
       "        0.68033909, 0.75162313, 0.64134684, 1.76277761, 0.15516048,\n",
       "        0.62244106, 1.19928939],\n",
       "       [0.48324437, 1.20472969, 0.24152162, 0.38913576, 0.82812203,\n",
       "        0.41842337, 0.8831807 , 1.16053598, 0.16860185, 0.69098493,\n",
       "        0.18007593, 0.10392217, 0.05301004, 1.16561891, 0.42776132,\n",
       "        0.77328196, 0.56049482],\n",
       "       [0.67783942, 0.05507026, 1.28073815, 1.95148012, 0.80189192,\n",
       "        1.72234737, 0.40377019, 0.25136033, 0.10586628, 0.02228984,\n",
       "        1.61880269, 1.59750126, 1.53131824, 1.16561891, 0.32263825,\n",
       "        1.08725291, 0.59169263],\n",
       "       [1.17081355, 3.22198296, 0.10488389, 1.36071482, 1.86983209,\n",
       "        1.39150098, 2.18504658, 1.79874163, 0.95279649, 0.20060853,\n",
       "        0.25718416, 0.38910394, 0.35016492, 1.16561891, 0.15516048,\n",
       "        1.25084255, 0.42706021],\n",
       "       [0.5870284 , 1.3276866 , 0.73226276, 0.0980011 , 0.1536335 ,\n",
       "        1.19688546, 1.54583256, 1.51351006, 0.20781158, 0.91388329,\n",
       "        0.13776044, 0.23442908, 0.16500309, 0.14476936, 2.41026205,\n",
       "        0.70306792, 0.0311412 ],\n",
       "       [0.00324325, 0.47676732, 0.4512894 , 0.5912527 , 1.61502532,\n",
       "        1.0995777 , 1.70563607, 0.91095835, 0.81164146, 1.76089707,\n",
       "        0.06723462, 0.14742447, 0.20980031, 1.89692973, 0.15516048,\n",
       "        0.07805147, 1.38267931],\n",
       "       [0.09405427, 0.77671257, 0.4512894 , 0.35256013, 0.18361077,\n",
       "        0.06811543, 0.10760103, 0.59007283, 0.60579036, 0.15602885,\n",
       "        0.65212876, 0.46160778, 0.48455658, 0.87608018, 0.32263825,\n",
       "        1.97512252, 0.12135948],\n",
       "       [0.28864932, 1.06699657, 1.78591286, 1.61559145, 1.08292881,\n",
       "        0.16542319, 0.08416318, 0.15866006, 0.98220379, 0.55724591,\n",
       "        0.91354447, 0.84346133, 0.79216414, 0.14476936, 0.15516048,\n",
       "        0.33202814, 0.27071559],\n",
       "       [0.68432592, 1.11629752, 0.07601676, 0.29691464, 0.23981814,\n",
       "        0.06811543, 0.26740453, 0.6043344 , 0.14899698, 0.78014427,\n",
       "        0.63144119, 0.64045058, 0.63537388, 0.74192807, 0.42776132,\n",
       "        0.336185  , 1.73770307],\n",
       "       [0.48973087, 0.75009569, 0.82656204, 0.72071866, 0.18361077,\n",
       "        0.51573113, 2.12112518, 0.30127585, 1.40958987, 1.67173773,\n",
       "        0.99065271, 0.92563235, 0.86533293, 0.74192807, 0.53459772,\n",
       "        0.47541933, 0.67543362],\n",
       "       [0.39243335, 0.45585524, 1.43277168, 1.32115147, 1.78364745,\n",
       "        1.00226994, 0.39524733, 0.6078998 , 0.96259892, 1.40425969,\n",
       "        0.18665834, 0.08458781, 0.03658439, 0.27892148, 0.32263825,\n",
       "        0.46107257, 0.0311412 ],\n",
       "       [0.48324437, 0.54936166, 0.40029081, 0.42576436, 0.71570727,\n",
       "        0.90496218, 1.09838275, 0.15866006, 0.86065362, 0.64640525,\n",
       "        0.53270504, 0.59694828, 0.45618501, 0.96895727, 0.32263825,\n",
       "        0.336185  , 0.04551046],\n",
       "       [1.26162457, 0.14412074, 1.20857034, 0.04631909, 0.12740339,\n",
       "        1.43042408, 0.56357369, 0.10517914, 1.26647435, 0.2451882 ,\n",
       "        0.57502053, 0.40843829, 0.41138779, 0.74192807, 0.91651672,\n",
       "        2.34287091, 2.14837662],\n",
       "       [1.85189622, 0.71948073, 0.46572296, 0.29779567, 0.74568454,\n",
       "        0.74926976, 0.85122   , 0.65781532, 0.18428574, 0.64640525,\n",
       "        2.30243298, 2.28870452, 2.2764453 , 0.87608018, 0.91651672,\n",
       "        2.1624629 , 0.19642248],\n",
       "       [1.65730117, 0.19724403, 1.65601079, 1.05143325, 0.97051405,\n",
       "        0.41842337, 0.7553379 , 0.14439849, 0.72341956, 0.64640525,\n",
       "        1.30096632, 1.50566306, 1.67168286, 1.89692973, 0.53459772,\n",
       "        1.37385682, 1.91656437],\n",
       "       [1.56000365, 0.05507026, 0.36468802, 1.13198047, 0.1536335 ,\n",
       "        0.12650009, 0.23544383, 1.74526071, 2.64469643, 0.51266624,\n",
       "        1.13170435, 1.30265231, 1.33570372, 0.96895727, 1.82734024,\n",
       "        0.70306792, 1.23795219],\n",
       "       [1.26162457, 0.56814831, 0.52345722, 0.44409857, 0.04121874,\n",
       "        0.26273095, 0.59553439, 1.01792019, 0.4979636 , 0.02228984,\n",
       "        0.68786185, 0.66945211, 0.72496831, 0.87608018, 1.065984  ,\n",
       "        0.33202814, 1.55431315],\n",
       "       [1.65081467, 0.85343715, 0.78999701, 0.37084133, 0.99674416,\n",
       "        0.41842337, 0.10760103, 0.47954559, 0.06665654, 2.25127347,\n",
       "        0.92764964, 0.93046594, 0.83696136, 0.27892148, 0.72910756,\n",
       "        1.08725291, 0.2660866 ],\n",
       "       [0.87892097, 0.05264604, 0.15492024, 0.94421388, 1.13913619,\n",
       "        1.39150098, 0.42720803, 0.3369298 , 0.4097417 , 1.44883936,\n",
       "        1.06117853, 1.14314386, 1.17891346, 0.87608018, 0.73192726,\n",
       "        0.93538083, 0.42706021],\n",
       "       [0.1978383 , 0.30280904, 1.27400249, 0.72071866, 0.54708514,\n",
       "        1.78073202, 0.42720803, 1.24610545, 0.93907309, 1.18136133,\n",
       "        0.75086491, 0.85312851, 0.75333989, 0.47340951, 0.53459772,\n",
       "        0.1920925 , 0.2660866 ],\n",
       "       [0.969732  , 1.38420083, 0.76882779, 0.31471967, 2.17709909,\n",
       "        0.84657752, 1.39455191, 1.67751821, 0.96259892, 1.27052067,\n",
       "        0.14434285, 0.03141833, 0.14260448, 1.89692973, 0.32263825,\n",
       "        1.08725291, 1.38267931],\n",
       "       [1.3589221 , 2.21504941, 1.38947099, 0.75783098, 1.33398843,\n",
       "        1.29419322, 2.03376593, 0.03387125, 1.38410355, 0.64640525,\n",
       "        1.01228062, 0.9014644 , 1.01615023, 0.14476936, 0.15516048,\n",
       "        0.20855243, 0.2660866 ],\n",
       "       [1.74811219, 1.12579542, 0.18378737, 0.51756862, 0.1536335 ,\n",
       "        0.55465424, 1.07494491, 1.46359453, 0.25290277, 0.20060853,\n",
       "        1.70343367, 1.64100356, 1.64331129, 0.87608018, 1.065984  ,\n",
       "        1.08725291, 1.61596046],\n",
       "       [1.07351602, 0.34457535, 1.8946457 , 1.03792293, 0.6594999 ,\n",
       "        0.51573113, 0.74681504, 1.67395282, 0.09606384, 1.09220198,\n",
       "        1.31507148, 1.20114693, 1.15651485, 0.96895727, 1.82734024,\n",
       "        0.58333073, 1.57083312],\n",
       "       [0.29513583, 0.17956168, 0.70339563, 1.4629739 , 0.74568454,\n",
       "        0.74926976, 0.8831807 , 0.21570638, 0.87437703, 0.42350689,\n",
       "        0.86370623, 0.56311315, 0.52935379, 1.16561891, 1.4080332 ,\n",
       "        0.1920925 , 1.29040399],\n",
       "       [0.1913518 , 0.5970945 , 1.91581492, 1.59867936, 0.80189192,\n",
       "        1.6250396 , 0.30788808, 0.37258375, 0.62539523, 2.16211413,\n",
       "        0.3493379 , 0.33593445, 0.1874017 , 0.87608018, 0.32263825,\n",
       "        0.20855243, 0.59169263],\n",
       "       [0.67783942, 0.66251325, 0.85542916, 1.4544181 , 0.82812203,\n",
       "        0.45734648, 0.49965229, 0.76834256, 0.77243172, 0.06686951,\n",
       "        0.60323086, 0.27793138, 0.29939474, 0.87608018, 1.44790301,\n",
       "        0.1920925 , 0.10861268],\n",
       "       [1.26162457, 0.88452141, 0.80443057, 1.34363137, 0.04121874,\n",
       "        1.72234737, 0.71485434, 1.44576756, 0.34112467, 0.60182558,\n",
       "        2.19711442, 2.36604195, 2.42726261, 0.47340951, 2.41026205,\n",
       "        0.92814575, 0.12135948]])"
      ]
     },
     "execution_count": 36,
     "metadata": {},
     "output_type": "execute_result"
    }
   ],
   "source": [
    "z # OTLIERS IN THE DATASET"
   ]
  },
  {
   "cell_type": "code",
   "execution_count": 37,
   "metadata": {},
   "outputs": [],
   "source": [
    "data=baseball[(z<3).all(axis=1)]"
   ]
  },
  {
   "cell_type": "code",
   "execution_count": 38,
   "metadata": {},
   "outputs": [
    {
     "data": {
      "text/plain": [
       "(29, 17)"
      ]
     },
     "execution_count": 38,
     "metadata": {},
     "output_type": "execute_result"
    }
   ],
   "source": [
    "data.shape # OUTLIERS REMOVED"
   ]
  },
  {
   "cell_type": "code",
   "execution_count": 39,
   "metadata": {},
   "outputs": [],
   "source": [
    "x=data.iloc[:,1:17] # SEPERATING DATSET FOR TARGET VARIABLES "
   ]
  },
  {
   "cell_type": "code",
   "execution_count": 40,
   "metadata": {},
   "outputs": [
    {
     "data": {
      "text/html": [
       "<div>\n",
       "<style scoped>\n",
       "    .dataframe tbody tr th:only-of-type {\n",
       "        vertical-align: middle;\n",
       "    }\n",
       "\n",
       "    .dataframe tbody tr th {\n",
       "        vertical-align: top;\n",
       "    }\n",
       "\n",
       "    .dataframe thead th {\n",
       "        text-align: right;\n",
       "    }\n",
       "</style>\n",
       "<table border=\"1\" class=\"dataframe\">\n",
       "  <thead>\n",
       "    <tr style=\"text-align: right;\">\n",
       "      <th></th>\n",
       "      <th>R</th>\n",
       "      <th>AB</th>\n",
       "      <th>H</th>\n",
       "      <th>2B</th>\n",
       "      <th>3B</th>\n",
       "      <th>HR</th>\n",
       "      <th>BB</th>\n",
       "      <th>SO</th>\n",
       "      <th>SB</th>\n",
       "      <th>RA</th>\n",
       "      <th>ER</th>\n",
       "      <th>ERA</th>\n",
       "      <th>CG</th>\n",
       "      <th>SHO</th>\n",
       "      <th>SV</th>\n",
       "      <th>E</th>\n",
       "    </tr>\n",
       "  </thead>\n",
       "  <tbody>\n",
       "    <tr>\n",
       "      <td>0</td>\n",
       "      <td>6.586172</td>\n",
       "      <td>5575</td>\n",
       "      <td>7.311886</td>\n",
       "      <td>300</td>\n",
       "      <td>42</td>\n",
       "      <td>139</td>\n",
       "      <td>383</td>\n",
       "      <td>973</td>\n",
       "      <td>104</td>\n",
       "      <td>641</td>\n",
       "      <td>601</td>\n",
       "      <td>3.73</td>\n",
       "      <td>1.098612</td>\n",
       "      <td>2.197225</td>\n",
       "      <td>4.043051</td>\n",
       "      <td>4.488636</td>\n",
       "    </tr>\n",
       "    <tr>\n",
       "      <td>1</td>\n",
       "      <td>6.546785</td>\n",
       "      <td>5467</td>\n",
       "      <td>7.207860</td>\n",
       "      <td>277</td>\n",
       "      <td>44</td>\n",
       "      <td>156</td>\n",
       "      <td>439</td>\n",
       "      <td>1264</td>\n",
       "      <td>70</td>\n",
       "      <td>700</td>\n",
       "      <td>653</td>\n",
       "      <td>4.07</td>\n",
       "      <td>1.098612</td>\n",
       "      <td>2.564949</td>\n",
       "      <td>3.828641</td>\n",
       "      <td>4.465908</td>\n",
       "    </tr>\n",
       "    <tr>\n",
       "      <td>2</td>\n",
       "      <td>6.507278</td>\n",
       "      <td>5439</td>\n",
       "      <td>7.241366</td>\n",
       "      <td>303</td>\n",
       "      <td>29</td>\n",
       "      <td>141</td>\n",
       "      <td>533</td>\n",
       "      <td>1157</td>\n",
       "      <td>86</td>\n",
       "      <td>640</td>\n",
       "      <td>584</td>\n",
       "      <td>3.67</td>\n",
       "      <td>2.484907</td>\n",
       "      <td>2.397895</td>\n",
       "      <td>3.663562</td>\n",
       "      <td>4.382027</td>\n",
       "    </tr>\n",
       "    <tr>\n",
       "      <td>3</td>\n",
       "      <td>6.434547</td>\n",
       "      <td>5533</td>\n",
       "      <td>7.231287</td>\n",
       "      <td>260</td>\n",
       "      <td>27</td>\n",
       "      <td>136</td>\n",
       "      <td>404</td>\n",
       "      <td>1231</td>\n",
       "      <td>68</td>\n",
       "      <td>701</td>\n",
       "      <td>643</td>\n",
       "      <td>3.98</td>\n",
       "      <td>2.079442</td>\n",
       "      <td>2.302585</td>\n",
       "      <td>3.637586</td>\n",
       "      <td>4.624973</td>\n",
       "    </tr>\n",
       "    <tr>\n",
       "      <td>4</td>\n",
       "      <td>6.536692</td>\n",
       "      <td>5605</td>\n",
       "      <td>7.323831</td>\n",
       "      <td>289</td>\n",
       "      <td>49</td>\n",
       "      <td>151</td>\n",
       "      <td>455</td>\n",
       "      <td>1259</td>\n",
       "      <td>83</td>\n",
       "      <td>803</td>\n",
       "      <td>746</td>\n",
       "      <td>4.64</td>\n",
       "      <td>2.079442</td>\n",
       "      <td>2.564949</td>\n",
       "      <td>3.583519</td>\n",
       "      <td>4.465908</td>\n",
       "    </tr>\n",
       "    <tr>\n",
       "      <td>6</td>\n",
       "      <td>6.639876</td>\n",
       "      <td>5567</td>\n",
       "      <td>7.242798</td>\n",
       "      <td>272</td>\n",
       "      <td>19</td>\n",
       "      <td>212</td>\n",
       "      <td>554</td>\n",
       "      <td>1227</td>\n",
       "      <td>63</td>\n",
       "      <td>698</td>\n",
       "      <td>652</td>\n",
       "      <td>4.03</td>\n",
       "      <td>1.386294</td>\n",
       "      <td>1.609438</td>\n",
       "      <td>3.891820</td>\n",
       "      <td>4.543295</td>\n",
       "    </tr>\n",
       "    <tr>\n",
       "      <td>7</td>\n",
       "      <td>6.570883</td>\n",
       "      <td>5485</td>\n",
       "      <td>7.223296</td>\n",
       "      <td>246</td>\n",
       "      <td>20</td>\n",
       "      <td>217</td>\n",
       "      <td>418</td>\n",
       "      <td>1331</td>\n",
       "      <td>44</td>\n",
       "      <td>693</td>\n",
       "      <td>646</td>\n",
       "      <td>4.05</td>\n",
       "      <td>0.000000</td>\n",
       "      <td>2.397895</td>\n",
       "      <td>3.784190</td>\n",
       "      <td>4.356709</td>\n",
       "    </tr>\n",
       "    <tr>\n",
       "      <td>8</td>\n",
       "      <td>6.469250</td>\n",
       "      <td>5485</td>\n",
       "      <td>7.232733</td>\n",
       "      <td>278</td>\n",
       "      <td>32</td>\n",
       "      <td>167</td>\n",
       "      <td>436</td>\n",
       "      <td>1310</td>\n",
       "      <td>87</td>\n",
       "      <td>642</td>\n",
       "      <td>604</td>\n",
       "      <td>3.74</td>\n",
       "      <td>0.693147</td>\n",
       "      <td>2.564949</td>\n",
       "      <td>4.110874</td>\n",
       "      <td>4.564348</td>\n",
       "    </tr>\n",
       "    <tr>\n",
       "      <td>9</td>\n",
       "      <td>6.618739</td>\n",
       "      <td>5640</td>\n",
       "      <td>7.310550</td>\n",
       "      <td>294</td>\n",
       "      <td>33</td>\n",
       "      <td>161</td>\n",
       "      <td>478</td>\n",
       "      <td>1148</td>\n",
       "      <td>71</td>\n",
       "      <td>753</td>\n",
       "      <td>694</td>\n",
       "      <td>4.31</td>\n",
       "      <td>1.386294</td>\n",
       "      <td>2.397895</td>\n",
       "      <td>3.713572</td>\n",
       "      <td>4.584967</td>\n",
       "    </tr>\n",
       "    <tr>\n",
       "      <td>10</td>\n",
       "      <td>6.622736</td>\n",
       "      <td>5511</td>\n",
       "      <td>7.258412</td>\n",
       "      <td>279</td>\n",
       "      <td>32</td>\n",
       "      <td>172</td>\n",
       "      <td>503</td>\n",
       "      <td>1233</td>\n",
       "      <td>101</td>\n",
       "      <td>733</td>\n",
       "      <td>680</td>\n",
       "      <td>4.24</td>\n",
       "      <td>1.791759</td>\n",
       "      <td>2.302585</td>\n",
       "      <td>3.828641</td>\n",
       "      <td>4.787492</td>\n",
       "    </tr>\n",
       "    <tr>\n",
       "      <td>11</td>\n",
       "      <td>6.593045</td>\n",
       "      <td>5459</td>\n",
       "      <td>7.218177</td>\n",
       "      <td>278</td>\n",
       "      <td>26</td>\n",
       "      <td>230</td>\n",
       "      <td>486</td>\n",
       "      <td>1392</td>\n",
       "      <td>121</td>\n",
       "      <td>618</td>\n",
       "      <td>572</td>\n",
       "      <td>3.57</td>\n",
       "      <td>1.791759</td>\n",
       "      <td>2.639057</td>\n",
       "      <td>3.688879</td>\n",
       "      <td>4.454347</td>\n",
       "    </tr>\n",
       "    <tr>\n",
       "      <td>12</td>\n",
       "      <td>6.495266</td>\n",
       "      <td>5417</td>\n",
       "      <td>7.194437</td>\n",
       "      <td>243</td>\n",
       "      <td>21</td>\n",
       "      <td>176</td>\n",
       "      <td>435</td>\n",
       "      <td>1150</td>\n",
       "      <td>52</td>\n",
       "      <td>675</td>\n",
       "      <td>630</td>\n",
       "      <td>3.94</td>\n",
       "      <td>1.098612</td>\n",
       "      <td>2.564949</td>\n",
       "      <td>3.850148</td>\n",
       "      <td>4.543295</td>\n",
       "    </tr>\n",
       "    <tr>\n",
       "      <td>13</td>\n",
       "      <td>6.487684</td>\n",
       "      <td>5544</td>\n",
       "      <td>7.229839</td>\n",
       "      <td>262</td>\n",
       "      <td>22</td>\n",
       "      <td>198</td>\n",
       "      <td>478</td>\n",
       "      <td>1336</td>\n",
       "      <td>69</td>\n",
       "      <td>726</td>\n",
       "      <td>677</td>\n",
       "      <td>4.16</td>\n",
       "      <td>1.945910</td>\n",
       "      <td>2.564949</td>\n",
       "      <td>3.828641</td>\n",
       "      <td>4.553877</td>\n",
       "    </tr>\n",
       "    <tr>\n",
       "      <td>14</td>\n",
       "      <td>6.543912</td>\n",
       "      <td>5600</td>\n",
       "      <td>7.248504</td>\n",
       "      <td>277</td>\n",
       "      <td>46</td>\n",
       "      <td>146</td>\n",
       "      <td>475</td>\n",
       "      <td>1119</td>\n",
       "      <td>78</td>\n",
       "      <td>729</td>\n",
       "      <td>664</td>\n",
       "      <td>4.14</td>\n",
       "      <td>1.791759</td>\n",
       "      <td>2.772589</td>\n",
       "      <td>3.367296</td>\n",
       "      <td>4.844187</td>\n",
       "    </tr>\n",
       "    <tr>\n",
       "      <td>15</td>\n",
       "      <td>6.473891</td>\n",
       "      <td>5484</td>\n",
       "      <td>7.234898</td>\n",
       "      <td>288</td>\n",
       "      <td>39</td>\n",
       "      <td>137</td>\n",
       "      <td>506</td>\n",
       "      <td>1267</td>\n",
       "      <td>69</td>\n",
       "      <td>525</td>\n",
       "      <td>478</td>\n",
       "      <td>2.94</td>\n",
       "      <td>0.693147</td>\n",
       "      <td>2.772589</td>\n",
       "      <td>4.143135</td>\n",
       "      <td>4.574711</td>\n",
       "    </tr>\n",
       "    <tr>\n",
       "      <td>16</td>\n",
       "      <td>6.548219</td>\n",
       "      <td>5631</td>\n",
       "      <td>7.288244</td>\n",
       "      <td>292</td>\n",
       "      <td>27</td>\n",
       "      <td>140</td>\n",
       "      <td>461</td>\n",
       "      <td>1322</td>\n",
       "      <td>98</td>\n",
       "      <td>596</td>\n",
       "      <td>532</td>\n",
       "      <td>3.21</td>\n",
       "      <td>0.000000</td>\n",
       "      <td>2.639057</td>\n",
       "      <td>4.007333</td>\n",
       "      <td>4.812184</td>\n",
       "    </tr>\n",
       "    <tr>\n",
       "      <td>17</td>\n",
       "      <td>6.536692</td>\n",
       "      <td>5491</td>\n",
       "      <td>7.201916</td>\n",
       "      <td>272</td>\n",
       "      <td>30</td>\n",
       "      <td>171</td>\n",
       "      <td>567</td>\n",
       "      <td>1518</td>\n",
       "      <td>95</td>\n",
       "      <td>608</td>\n",
       "      <td>546</td>\n",
       "      <td>3.36</td>\n",
       "      <td>1.945910</td>\n",
       "      <td>3.091042</td>\n",
       "      <td>3.891820</td>\n",
       "      <td>4.718499</td>\n",
       "    </tr>\n",
       "    <tr>\n",
       "      <td>18</td>\n",
       "      <td>6.486161</td>\n",
       "      <td>5480</td>\n",
       "      <td>7.229114</td>\n",
       "      <td>274</td>\n",
       "      <td>34</td>\n",
       "      <td>145</td>\n",
       "      <td>412</td>\n",
       "      <td>1299</td>\n",
       "      <td>84</td>\n",
       "      <td>737</td>\n",
       "      <td>682</td>\n",
       "      <td>4.28</td>\n",
       "      <td>0.693147</td>\n",
       "      <td>2.079442</td>\n",
       "      <td>3.713572</td>\n",
       "      <td>4.762174</td>\n",
       "    </tr>\n",
       "    <tr>\n",
       "      <td>19</td>\n",
       "      <td>6.463029</td>\n",
       "      <td>5571</td>\n",
       "      <td>7.232010</td>\n",
       "      <td>257</td>\n",
       "      <td>27</td>\n",
       "      <td>167</td>\n",
       "      <td>496</td>\n",
       "      <td>1255</td>\n",
       "      <td>134</td>\n",
       "      <td>754</td>\n",
       "      <td>700</td>\n",
       "      <td>4.33</td>\n",
       "      <td>1.098612</td>\n",
       "      <td>2.197225</td>\n",
       "      <td>3.583519</td>\n",
       "      <td>4.510860</td>\n",
       "    </tr>\n",
       "    <tr>\n",
       "      <td>20</td>\n",
       "      <td>6.527958</td>\n",
       "      <td>5527</td>\n",
       "      <td>7.209340</td>\n",
       "      <td>295</td>\n",
       "      <td>17</td>\n",
       "      <td>177</td>\n",
       "      <td>488</td>\n",
       "      <td>1290</td>\n",
       "      <td>51</td>\n",
       "      <td>613</td>\n",
       "      <td>557</td>\n",
       "      <td>3.43</td>\n",
       "      <td>0.693147</td>\n",
       "      <td>2.708050</td>\n",
       "      <td>3.931826</td>\n",
       "      <td>4.488636</td>\n",
       "    </tr>\n",
       "    <tr>\n",
       "      <td>21</td>\n",
       "      <td>6.556778</td>\n",
       "      <td>5428</td>\n",
       "      <td>7.218177</td>\n",
       "      <td>265</td>\n",
       "      <td>13</td>\n",
       "      <td>177</td>\n",
       "      <td>539</td>\n",
       "      <td>1344</td>\n",
       "      <td>57</td>\n",
       "      <td>635</td>\n",
       "      <td>577</td>\n",
       "      <td>3.62</td>\n",
       "      <td>1.609438</td>\n",
       "      <td>2.639057</td>\n",
       "      <td>3.737670</td>\n",
       "      <td>4.510860</td>\n",
       "    </tr>\n",
       "    <tr>\n",
       "      <td>22</td>\n",
       "      <td>6.419995</td>\n",
       "      <td>5463</td>\n",
       "      <td>7.259116</td>\n",
       "      <td>236</td>\n",
       "      <td>40</td>\n",
       "      <td>120</td>\n",
       "      <td>375</td>\n",
       "      <td>1150</td>\n",
       "      <td>112</td>\n",
       "      <td>678</td>\n",
       "      <td>638</td>\n",
       "      <td>4.02</td>\n",
       "      <td>0.000000</td>\n",
       "      <td>2.564949</td>\n",
       "      <td>3.583519</td>\n",
       "      <td>4.356709</td>\n",
       "    </tr>\n",
       "    <tr>\n",
       "      <td>23</td>\n",
       "      <td>6.352629</td>\n",
       "      <td>5420</td>\n",
       "      <td>7.216709</td>\n",
       "      <td>251</td>\n",
       "      <td>18</td>\n",
       "      <td>100</td>\n",
       "      <td>471</td>\n",
       "      <td>1107</td>\n",
       "      <td>69</td>\n",
       "      <td>760</td>\n",
       "      <td>698</td>\n",
       "      <td>4.41</td>\n",
       "      <td>1.386294</td>\n",
       "      <td>2.397895</td>\n",
       "      <td>3.806662</td>\n",
       "      <td>4.510860</td>\n",
       "    </tr>\n",
       "    <tr>\n",
       "      <td>24</td>\n",
       "      <td>6.440947</td>\n",
       "      <td>5529</td>\n",
       "      <td>7.226209</td>\n",
       "      <td>272</td>\n",
       "      <td>37</td>\n",
       "      <td>130</td>\n",
       "      <td>387</td>\n",
       "      <td>1274</td>\n",
       "      <td>88</td>\n",
       "      <td>809</td>\n",
       "      <td>749</td>\n",
       "      <td>4.69</td>\n",
       "      <td>0.693147</td>\n",
       "      <td>2.079442</td>\n",
       "      <td>3.583519</td>\n",
       "      <td>4.770685</td>\n",
       "    </tr>\n",
       "    <tr>\n",
       "      <td>25</td>\n",
       "      <td>6.504288</td>\n",
       "      <td>5385</td>\n",
       "      <td>7.205635</td>\n",
       "      <td>263</td>\n",
       "      <td>26</td>\n",
       "      <td>187</td>\n",
       "      <td>563</td>\n",
       "      <td>1258</td>\n",
       "      <td>59</td>\n",
       "      <td>595</td>\n",
       "      <td>553</td>\n",
       "      <td>3.44</td>\n",
       "      <td>1.945910</td>\n",
       "      <td>3.091042</td>\n",
       "      <td>3.871201</td>\n",
       "      <td>4.330733</td>\n",
       "    </tr>\n",
       "    <tr>\n",
       "      <td>26</td>\n",
       "      <td>6.546785</td>\n",
       "      <td>5565</td>\n",
       "      <td>7.304516</td>\n",
       "      <td>288</td>\n",
       "      <td>39</td>\n",
       "      <td>136</td>\n",
       "      <td>457</td>\n",
       "      <td>1159</td>\n",
       "      <td>93</td>\n",
       "      <td>627</td>\n",
       "      <td>597</td>\n",
       "      <td>3.72</td>\n",
       "      <td>2.079442</td>\n",
       "      <td>2.944439</td>\n",
       "      <td>3.737670</td>\n",
       "      <td>4.369448</td>\n",
       "    </tr>\n",
       "    <tr>\n",
       "      <td>27</td>\n",
       "      <td>6.580639</td>\n",
       "      <td>5649</td>\n",
       "      <td>7.309881</td>\n",
       "      <td>289</td>\n",
       "      <td>48</td>\n",
       "      <td>154</td>\n",
       "      <td>490</td>\n",
       "      <td>1312</td>\n",
       "      <td>132</td>\n",
       "      <td>713</td>\n",
       "      <td>659</td>\n",
       "      <td>4.04</td>\n",
       "      <td>0.693147</td>\n",
       "      <td>2.564949</td>\n",
       "      <td>3.806662</td>\n",
       "      <td>4.465908</td>\n",
       "    </tr>\n",
       "    <tr>\n",
       "      <td>28</td>\n",
       "      <td>6.478510</td>\n",
       "      <td>5457</td>\n",
       "      <td>7.189168</td>\n",
       "      <td>260</td>\n",
       "      <td>36</td>\n",
       "      <td>148</td>\n",
       "      <td>426</td>\n",
       "      <td>1327</td>\n",
       "      <td>82</td>\n",
       "      <td>731</td>\n",
       "      <td>655</td>\n",
       "      <td>4.09</td>\n",
       "      <td>0.693147</td>\n",
       "      <td>1.945910</td>\n",
       "      <td>3.737670</td>\n",
       "      <td>4.532599</td>\n",
       "    </tr>\n",
       "    <tr>\n",
       "      <td>29</td>\n",
       "      <td>6.603944</td>\n",
       "      <td>5572</td>\n",
       "      <td>7.299797</td>\n",
       "      <td>274</td>\n",
       "      <td>49</td>\n",
       "      <td>186</td>\n",
       "      <td>388</td>\n",
       "      <td>1283</td>\n",
       "      <td>97</td>\n",
       "      <td>844</td>\n",
       "      <td>799</td>\n",
       "      <td>5.04</td>\n",
       "      <td>1.609438</td>\n",
       "      <td>1.609438</td>\n",
       "      <td>3.610918</td>\n",
       "      <td>4.564348</td>\n",
       "    </tr>\n",
       "  </tbody>\n",
       "</table>\n",
       "</div>"
      ],
      "text/plain": [
       "           R    AB         H   2B  3B   HR   BB    SO   SB   RA   ER   ERA  \\\n",
       "0   6.586172  5575  7.311886  300  42  139  383   973  104  641  601  3.73   \n",
       "1   6.546785  5467  7.207860  277  44  156  439  1264   70  700  653  4.07   \n",
       "2   6.507278  5439  7.241366  303  29  141  533  1157   86  640  584  3.67   \n",
       "3   6.434547  5533  7.231287  260  27  136  404  1231   68  701  643  3.98   \n",
       "4   6.536692  5605  7.323831  289  49  151  455  1259   83  803  746  4.64   \n",
       "6   6.639876  5567  7.242798  272  19  212  554  1227   63  698  652  4.03   \n",
       "7   6.570883  5485  7.223296  246  20  217  418  1331   44  693  646  4.05   \n",
       "8   6.469250  5485  7.232733  278  32  167  436  1310   87  642  604  3.74   \n",
       "9   6.618739  5640  7.310550  294  33  161  478  1148   71  753  694  4.31   \n",
       "10  6.622736  5511  7.258412  279  32  172  503  1233  101  733  680  4.24   \n",
       "11  6.593045  5459  7.218177  278  26  230  486  1392  121  618  572  3.57   \n",
       "12  6.495266  5417  7.194437  243  21  176  435  1150   52  675  630  3.94   \n",
       "13  6.487684  5544  7.229839  262  22  198  478  1336   69  726  677  4.16   \n",
       "14  6.543912  5600  7.248504  277  46  146  475  1119   78  729  664  4.14   \n",
       "15  6.473891  5484  7.234898  288  39  137  506  1267   69  525  478  2.94   \n",
       "16  6.548219  5631  7.288244  292  27  140  461  1322   98  596  532  3.21   \n",
       "17  6.536692  5491  7.201916  272  30  171  567  1518   95  608  546  3.36   \n",
       "18  6.486161  5480  7.229114  274  34  145  412  1299   84  737  682  4.28   \n",
       "19  6.463029  5571  7.232010  257  27  167  496  1255  134  754  700  4.33   \n",
       "20  6.527958  5527  7.209340  295  17  177  488  1290   51  613  557  3.43   \n",
       "21  6.556778  5428  7.218177  265  13  177  539  1344   57  635  577  3.62   \n",
       "22  6.419995  5463  7.259116  236  40  120  375  1150  112  678  638  4.02   \n",
       "23  6.352629  5420  7.216709  251  18  100  471  1107   69  760  698  4.41   \n",
       "24  6.440947  5529  7.226209  272  37  130  387  1274   88  809  749  4.69   \n",
       "25  6.504288  5385  7.205635  263  26  187  563  1258   59  595  553  3.44   \n",
       "26  6.546785  5565  7.304516  288  39  136  457  1159   93  627  597  3.72   \n",
       "27  6.580639  5649  7.309881  289  48  154  490  1312  132  713  659  4.04   \n",
       "28  6.478510  5457  7.189168  260  36  148  426  1327   82  731  655  4.09   \n",
       "29  6.603944  5572  7.299797  274  49  186  388  1283   97  844  799  5.04   \n",
       "\n",
       "          CG       SHO        SV         E  \n",
       "0   1.098612  2.197225  4.043051  4.488636  \n",
       "1   1.098612  2.564949  3.828641  4.465908  \n",
       "2   2.484907  2.397895  3.663562  4.382027  \n",
       "3   2.079442  2.302585  3.637586  4.624973  \n",
       "4   2.079442  2.564949  3.583519  4.465908  \n",
       "6   1.386294  1.609438  3.891820  4.543295  \n",
       "7   0.000000  2.397895  3.784190  4.356709  \n",
       "8   0.693147  2.564949  4.110874  4.564348  \n",
       "9   1.386294  2.397895  3.713572  4.584967  \n",
       "10  1.791759  2.302585  3.828641  4.787492  \n",
       "11  1.791759  2.639057  3.688879  4.454347  \n",
       "12  1.098612  2.564949  3.850148  4.543295  \n",
       "13  1.945910  2.564949  3.828641  4.553877  \n",
       "14  1.791759  2.772589  3.367296  4.844187  \n",
       "15  0.693147  2.772589  4.143135  4.574711  \n",
       "16  0.000000  2.639057  4.007333  4.812184  \n",
       "17  1.945910  3.091042  3.891820  4.718499  \n",
       "18  0.693147  2.079442  3.713572  4.762174  \n",
       "19  1.098612  2.197225  3.583519  4.510860  \n",
       "20  0.693147  2.708050  3.931826  4.488636  \n",
       "21  1.609438  2.639057  3.737670  4.510860  \n",
       "22  0.000000  2.564949  3.583519  4.356709  \n",
       "23  1.386294  2.397895  3.806662  4.510860  \n",
       "24  0.693147  2.079442  3.583519  4.770685  \n",
       "25  1.945910  3.091042  3.871201  4.330733  \n",
       "26  2.079442  2.944439  3.737670  4.369448  \n",
       "27  0.693147  2.564949  3.806662  4.465908  \n",
       "28  0.693147  1.945910  3.737670  4.532599  \n",
       "29  1.609438  1.609438  3.610918  4.564348  "
      ]
     },
     "execution_count": 40,
     "metadata": {},
     "output_type": "execute_result"
    }
   ],
   "source": [
    "x"
   ]
  },
  {
   "cell_type": "code",
   "execution_count": 41,
   "metadata": {},
   "outputs": [],
   "source": [
    "y=data.iloc[:,0] # TARGET VARIABLE"
   ]
  },
  {
   "cell_type": "code",
   "execution_count": 42,
   "metadata": {},
   "outputs": [
    {
     "data": {
      "text/plain": [
       "0      95\n",
       "1      83\n",
       "2      81\n",
       "3      76\n",
       "4      74\n",
       "6      87\n",
       "7      81\n",
       "8      80\n",
       "9      78\n",
       "10     88\n",
       "11     86\n",
       "12     85\n",
       "13     76\n",
       "14     68\n",
       "15    100\n",
       "16     98\n",
       "17     97\n",
       "18     68\n",
       "19     64\n",
       "20     90\n",
       "21     83\n",
       "22     71\n",
       "23     67\n",
       "24     63\n",
       "25     92\n",
       "26     84\n",
       "27     79\n",
       "28     74\n",
       "29     68\n",
       "Name: W, dtype: int64"
      ]
     },
     "execution_count": 42,
     "metadata": {},
     "output_type": "execute_result"
    }
   ],
   "source": [
    "y"
   ]
  },
  {
   "cell_type": "code",
   "execution_count": 43,
   "metadata": {},
   "outputs": [],
   "source": [
    "# SCALING THE DATA \n",
    "from sklearn.preprocessing import StandardScaler\n",
    "ss=StandardScaler()\n",
    "from sklearn.metrics import mean_squared_error,mean_absolute_error"
   ]
  },
  {
   "cell_type": "code",
   "execution_count": 44,
   "metadata": {},
   "outputs": [],
   "source": [
    "x=ss.fit_transform(x)"
   ]
  },
  {
   "cell_type": "code",
   "execution_count": 45,
   "metadata": {},
   "outputs": [
    {
     "data": {
      "text/plain": [
       "array([[ 0.95271901,  0.83008422,  1.72372599,  1.55653766,  1.01084549,\n",
       "        -0.76586314, -1.53635899, -2.72762331,  0.9059529 , -0.66451353,\n",
       "        -0.51114812, -0.51138828, -0.24041455, -0.72241314,  1.55481209,\n",
       "        -0.43573324],\n",
       "       [ 0.35665907, -0.70283074, -0.94984589,  0.20117132,  1.20891656,\n",
       "        -0.18138864, -0.49502051,  0.12189552, -0.58531515,  0.15463823,\n",
       "         0.23216082,  0.23895226, -0.24041455,  0.31208451,  0.29622875,\n",
       "        -0.59810993],\n",
       "       [-0.24123892, -1.10025314, -0.08870013,  1.73332457, -0.2766165 ,\n",
       "        -0.69710144,  1.25294051, -0.9258657 ,  0.11645805, -0.67839746,\n",
       "        -0.75415297, -0.64380131,  1.81571095, -0.15787854, -0.67278738,\n",
       "        -1.19738162],\n",
       "       [-1.34193161,  0.23395062, -0.34774692, -0.8006212 , -0.47468758,\n",
       "        -0.8690057 , -1.14585706, -0.20124579, -0.6730368 ,  0.16852216,\n",
       "         0.08921679,  0.04033271,  1.21433279, -0.42600884, -0.82526317,\n",
       "         0.53829069],\n",
       "       [ 0.20390224,  1.25589393,  2.03070817,  0.90831897,  1.70409425,\n",
       "        -0.35329291, -0.19749523,  0.07293472, -0.01512442,  1.58468284,\n",
       "         1.56154027,  1.4968761 ,  1.21433279,  0.31208451, -1.14263711,\n",
       "        -0.59810993],\n",
       "       [ 1.7654624 ,  0.71653496, -0.05190567, -0.09347354, -1.26697188,\n",
       "         1.74393914,  1.64344245, -0.24041443, -0.89234092,  0.12687038,\n",
       "         0.21786641,  0.1506769 ,  0.18627005, -2.37599743,  0.66708814,\n",
       "        -0.04523896],\n",
       "       [ 0.72134439, -0.44734492, -0.55313135, -1.6256268 , -1.16793634,\n",
       "         1.9158434 , -0.88552244,  0.7779703 , -1.7256966 ,  0.05745074,\n",
       "         0.1321    ,  0.19481458, -1.86985545, -0.15787854,  0.03529744,\n",
       "        -1.3782588 ],\n",
       "       [-0.81673445, -0.44734492, -0.31057999,  0.26010029,  0.02049011,\n",
       "         0.19680075, -0.5508065 ,  0.57233492,  0.16031888, -0.6506296 ,\n",
       "        -0.46826492, -0.48931944, -0.8417927 ,  0.31208451,  1.95292991,\n",
       "         0.10517222],\n",
       "       [ 1.44558347,  1.75267193,  1.68938942,  1.20296383,  0.11952565,\n",
       "        -0.00948437,  0.23019736, -1.01399515, -0.54145432,  0.89048643,\n",
       "         0.81823133,  0.7686044 ,  0.18627005, -0.15787854, -0.37922682,\n",
       "         0.2524819 ],\n",
       "       [ 1.50607806, -0.07830983,  0.34939441,  0.31902926,  0.02049011,\n",
       "         0.36870501,  0.69508061, -0.18166147,  0.77437043,  0.61280787,\n",
       "         0.61810969,  0.61412253,  0.7876482 , -0.42600884,  0.29622875,\n",
       "         1.69936927],\n",
       "       [ 1.05673116, -0.81638   , -0.6846903 ,  0.26010029, -0.57372311,\n",
       "         2.3627945 ,  0.37896   ,  1.37529212,  1.65158693, -0.98384388,\n",
       "        -0.9256858 , -0.86448971,  0.7876482 ,  0.52056793, -0.52417216,\n",
       "        -0.68070352],\n",
       "       [-0.4230274 , -1.4125136 , -1.29482992, -1.80241371, -1.0689008 ,\n",
       "         0.50622842, -0.56940183, -0.99441083, -1.37481   , -0.19245997,\n",
       "        -0.09661045, -0.04794265, -0.24041455,  0.31208451,  0.42246991,\n",
       "        -0.04523896],\n",
       "       [-0.53776418,  0.39008085, -0.38496767, -0.68276325, -0.96986526,\n",
       "         1.26260719,  0.23019736,  0.82693111, -0.62917597,  0.51562037,\n",
       "         0.57522648,  0.43757181,  1.01628157,  0.31208451,  0.29622875,\n",
       "         0.03036246],\n",
       "       [ 0.31317137,  1.18492565,  0.09474765,  0.20117132,  1.40698764,\n",
       "        -0.52519717,  0.17441137, -1.29796781, -0.23442855,  0.55727215,\n",
       "         0.38939925,  0.39343414,  0.7876482 ,  0.89622364, -2.41186413,\n",
       "         2.10441593],\n",
       "       [-0.74650829, -0.46153857, -0.25493019,  0.84939   ,  0.71373887,\n",
       "        -0.83462485,  0.7508666 ,  0.151272  , -0.62917597, -2.2750492 ,\n",
       "        -2.26935966, -2.25482658, -0.8417927 ,  0.89622364,  2.14230078,\n",
       "         0.17920673],\n",
       "       [ 0.37835615,  1.62492902,  1.11611083,  1.08510589, -0.47468758,\n",
       "        -0.73148229, -0.08592325,  0.68984085,  0.64278795, -1.2892903 ,\n",
       "        -1.49746191, -1.65896792, -1.86985545,  0.52056793,  1.34514738,\n",
       "         1.87577988],\n",
       "       [ 0.20390224, -0.36218297, -1.10260072, -0.09347354, -0.17758096,\n",
       "         0.33432416,  1.88518174,  2.6091044 ,  0.51120548, -1.12268316,\n",
       "        -1.29734027, -1.32793533,  1.01628157,  1.79211005,  0.66708814,\n",
       "         1.20646579],\n",
       "       [-0.56081629, -0.5183132 , -0.40359828,  0.0243844 ,  0.21856119,\n",
       "        -0.55957802, -0.99709442,  0.46462115,  0.0287364 ,  0.66834358,\n",
       "         0.64669849,  0.70239789, -0.8417927 , -1.05376495, -0.37922682,\n",
       "         1.5184921 ],\n",
       "       [-0.91087913,  0.77330959, -0.32915674, -0.97740811, -0.47468758,\n",
       "         0.19680075,  0.5649133 ,  0.03376607,  2.22177765,  0.90437036,\n",
       "         0.90399774,  0.81274208, -0.24041455, -0.72241314, -1.14263711,\n",
       "        -0.27696522],\n",
       "       [ 0.07172928,  0.14878868, -0.91179862,  1.2618928 , -1.46504295,\n",
       "         0.54060928,  0.41615066,  0.3764917 , -1.41867082, -1.05326352,\n",
       "        -1.14010184, -1.17345346, -0.8417927 ,  0.71466136,  0.90191896,\n",
       "        -0.43573324],\n",
       "       [ 0.50788939, -1.25638337, -0.6846903 , -0.50597634, -1.8611851 ,\n",
       "         0.54060928,  1.3645125 ,  0.9052684 , -1.15550587, -0.7478171 ,\n",
       "        -0.85421379, -0.75414551,  0.51723233,  0.52056793, -0.23777449,\n",
       "        -0.27696522],\n",
       "       [-1.56215114, -0.75960537,  0.36748729, -2.21491651,  0.81277441,\n",
       "        -1.41909935, -1.68512163, -0.99441083,  1.2568395 , -0.15080819,\n",
       "         0.01774478,  0.12860806, -1.86985545,  0.31208451, -1.14263711,\n",
       "        -1.3782588 ],\n",
       "       [-2.58164147, -1.36993263, -0.7224026 , -1.33098194, -1.36600741,\n",
       "        -2.10671642,  0.10003005, -1.41547375, -0.62917597,  0.98767393,\n",
       "         0.87540894,  0.9892928 ,  0.18627005, -0.15787854,  0.16721283,\n",
       "        -0.27696522],\n",
       "       [-1.24507555,  0.177176  , -0.47825607, -0.09347354,  0.5156678 ,\n",
       "        -1.07529082, -1.46197767,  0.21981713,  0.2041797 ,  1.66798641,\n",
       "         1.60442347,  1.6072203 , -0.8417927 , -1.05376495, -1.14263711,\n",
       "         1.57929474],\n",
       "       [-0.28648173, -1.86671063, -1.00702261, -0.62383428, -0.57372311,\n",
       "         0.88441781,  1.81080042,  0.06314255, -1.06778422, -1.30317423,\n",
       "        -1.19727945, -1.15138462,  1.01628157,  1.79211005,  0.54605317,\n",
       "        -1.5638346 ],\n",
       "       [ 0.35665907,  0.68814765,  1.53430459,  0.84939   ,  0.71373887,\n",
       "        -0.8690057 , -0.16030457, -0.90628138,  0.42348383, -0.85888852,\n",
       "        -0.56832573, -0.53345712,  1.21433279,  1.37967946, -0.23777449,\n",
       "        -1.2872478 ],\n",
       "       [ 0.8689915 ,  1.88041485,  1.67220391,  0.90831897,  1.60505871,\n",
       "        -0.25015035,  0.45334132,  0.59191925,  2.134056  ,  0.3351293 ,\n",
       "         0.31792723,  0.17274574, -0.8417927 ,  0.31208451,  0.16721283,\n",
       "        -0.59810993],\n",
       "       [-0.67660651, -0.84476732, -1.43025099, -0.8006212 ,  0.41663226,\n",
       "        -0.45643546, -0.7367598 ,  0.73880166, -0.05898525,  0.58504001,\n",
       "         0.26074962,  0.28308994, -0.8417927 , -1.42942065, -0.23777449,\n",
       "        -0.12164896],\n",
       "       [ 1.22167785,  0.78750325,  1.41303273,  0.0243844 ,  1.70409425,\n",
       "         0.85003696, -1.44338234,  0.30794658,  0.59892713,  2.1539239 ,\n",
       "         2.31914361,  2.37962968,  0.51723233, -2.37599743, -0.98180546,\n",
       "         0.10517222]])"
      ]
     },
     "execution_count": 45,
     "metadata": {},
     "output_type": "execute_result"
    }
   ],
   "source": [
    "x"
   ]
  },
  {
   "cell_type": "code",
   "execution_count": 46,
   "metadata": {},
   "outputs": [],
   "source": [
    "from sklearn.model_selection import train_test_split"
   ]
  },
  {
   "cell_type": "code",
   "execution_count": 47,
   "metadata": {},
   "outputs": [],
   "source": [
    "from sklearn.metrics import mean_squared_error,mean_absolute_error,r2_score\n",
    "from sklearn.linear_model import LogisticRegression,LinearRegression\n"
   ]
  },
  {
   "cell_type": "code",
   "execution_count": 48,
   "metadata": {},
   "outputs": [],
   "source": [
    "# FUNCTION FOR FINDING THE BEST RANDOM STATE FOR THE MODEL HAVING THE HIGHEST R2 SCORE\n",
    "def maxr2_Score(regr,x,y):\n",
    "    max_r_score=0\n",
    "    for r_state in range(42,101):\n",
    "        x_train, x_test, y_train, y_test=train_test_split(x,y,random_state=r_state,test_size=0.22)\n",
    "        regr.fit(x_train,y_train)\n",
    "        y_pred=regr.predict(x_test)\n",
    "        r2_scr=r2_score(y_test,y_pred)\n",
    "        print('r2_score corr to random state',r_state,'is:',r2_scr)\n",
    "        if r2_scr>max_r_score:\n",
    "            max_r_score=r2_scr\n",
    "            final_r_state=r_state\n",
    "    print()\n",
    "    print()\n",
    "    print(\"max r2 score corr to \",final_r_state,'is',max_r_score)       \n",
    "    return final_r_state "
   ]
  },
  {
   "cell_type": "code",
   "execution_count": 49,
   "metadata": {
    "scrolled": true
   },
   "outputs": [
    {
     "name": "stdout",
     "output_type": "stream",
     "text": [
      "r2_score corr to random state 42 is: 0.424092788846253\n",
      "r2_score corr to random state 43 is: -6.2731352419347575\n",
      "r2_score corr to random state 44 is: -0.09346309961448007\n",
      "r2_score corr to random state 45 is: -0.21488623669823115\n",
      "r2_score corr to random state 46 is: -0.6719717141915755\n",
      "r2_score corr to random state 47 is: -0.090350923364787\n",
      "r2_score corr to random state 48 is: -1.0677071219460066\n",
      "r2_score corr to random state 49 is: -0.21445191350645554\n",
      "r2_score corr to random state 50 is: 0.7924269681228959\n",
      "r2_score corr to random state 51 is: 0.7019841979979684\n",
      "r2_score corr to random state 52 is: -0.053761836330529\n",
      "r2_score corr to random state 53 is: 0.41599062917659446\n",
      "r2_score corr to random state 54 is: -0.10295033013036314\n",
      "r2_score corr to random state 55 is: 0.43761195887099913\n",
      "r2_score corr to random state 56 is: 0.6952196131934906\n",
      "r2_score corr to random state 57 is: 0.6388008890341823\n",
      "r2_score corr to random state 58 is: 0.6705770097965124\n",
      "r2_score corr to random state 59 is: 0.8164238637244101\n",
      "r2_score corr to random state 60 is: 0.16108163741339698\n",
      "r2_score corr to random state 61 is: 0.6866693496478713\n",
      "r2_score corr to random state 62 is: 0.7871248020096643\n",
      "r2_score corr to random state 63 is: 0.5334131805450173\n",
      "r2_score corr to random state 64 is: 0.7261288301441706\n",
      "r2_score corr to random state 65 is: 0.3904902003300993\n",
      "r2_score corr to random state 66 is: 0.8418671676198333\n",
      "r2_score corr to random state 67 is: 0.5744983672270156\n",
      "r2_score corr to random state 68 is: 0.01690352833181119\n",
      "r2_score corr to random state 69 is: 0.2726856061443512\n",
      "r2_score corr to random state 70 is: 0.37572740407872374\n",
      "r2_score corr to random state 71 is: -1.089100126271357\n",
      "r2_score corr to random state 72 is: -1.5005434925383012\n",
      "r2_score corr to random state 73 is: 0.43473677972487856\n",
      "r2_score corr to random state 74 is: 0.3246347440796531\n",
      "r2_score corr to random state 75 is: 0.3424661196863209\n",
      "r2_score corr to random state 76 is: 0.613176789485431\n",
      "r2_score corr to random state 77 is: 0.7714986972537268\n",
      "r2_score corr to random state 78 is: 0.12692262357757034\n",
      "r2_score corr to random state 79 is: 0.6516315488028316\n",
      "r2_score corr to random state 80 is: 0.7115998587926763\n",
      "r2_score corr to random state 81 is: 0.7988203760733741\n",
      "r2_score corr to random state 82 is: 0.39304856099833974\n",
      "r2_score corr to random state 83 is: 0.1654226935659011\n",
      "r2_score corr to random state 84 is: 0.20911351823305524\n",
      "r2_score corr to random state 85 is: 0.1763751393061913\n",
      "r2_score corr to random state 86 is: -1.1470543960061028\n",
      "r2_score corr to random state 87 is: 0.32918638631342845\n",
      "r2_score corr to random state 88 is: -1.8210060747051875\n",
      "r2_score corr to random state 89 is: 0.5290320974124271\n",
      "r2_score corr to random state 90 is: 0.5784750047228555\n",
      "r2_score corr to random state 91 is: 0.2998327086708287\n",
      "r2_score corr to random state 92 is: 0.3001969798573303\n",
      "r2_score corr to random state 93 is: -0.44984313655073316\n",
      "r2_score corr to random state 94 is: -0.47389679736190193\n",
      "r2_score corr to random state 95 is: 0.3220133590777762\n",
      "r2_score corr to random state 96 is: -1.1772681446444055\n",
      "r2_score corr to random state 97 is: 0.6293300701969251\n",
      "r2_score corr to random state 98 is: -2.901203009869168\n",
      "r2_score corr to random state 99 is: 0.7857434030161854\n",
      "r2_score corr to random state 100 is: -0.057153434635680345\n",
      "\n",
      "\n",
      "max r2 score corr to  66 is 0.8418671676198333\n"
     ]
    }
   ],
   "source": [
    "# FINDING BEST RANDOM STATE AND R2 SCORE FOR LINEAR REGRESSION\n",
    "from sklearn.linear_model import LinearRegression\n",
    "lreg=LinearRegression()\n",
    "r_state=maxr2_Score(lreg,x,y)"
   ]
  },
  {
   "cell_type": "code",
   "execution_count": 50,
   "metadata": {},
   "outputs": [],
   "source": [
    "# IMPORTING PCA FOR FINDING THE BEST CORRELATED COLUMNS \n",
    "from sklearn.decomposition import PCA\n",
    "pca = PCA(n_components=10)"
   ]
  },
  {
   "cell_type": "code",
   "execution_count": 51,
   "metadata": {},
   "outputs": [],
   "source": [
    "#TRANSFORMING THE X INTO PCA \n",
    "x_new=pca.fit_transform(x)"
   ]
  },
  {
   "cell_type": "code",
   "execution_count": 52,
   "metadata": {},
   "outputs": [
    {
     "data": {
      "text/plain": [
       "array([[ 1.00413795e+00, -2.98135039e+00,  2.21896961e+00,\n",
       "        -3.84021747e-01, -2.41752039e+00, -4.50630294e-01,\n",
       "        -8.99663506e-01, -3.30655916e-01,  8.30068304e-01,\n",
       "        -6.02137323e-01],\n",
       "       [-6.72091044e-03,  4.15917647e-01,  2.98375083e-01,\n",
       "         3.49653156e-03, -3.47915573e-01,  3.76605317e-01,\n",
       "         6.57255433e-01, -1.58679342e+00,  3.92413505e-02,\n",
       "         1.90477773e-02],\n",
       "       [-1.19882104e+00, -7.96205226e-01,  9.10922557e-02,\n",
       "         2.71095283e+00, -5.52781196e-01, -3.71330871e-01,\n",
       "        -1.43217499e+00, -5.99595899e-01,  1.68132419e-01,\n",
       "         1.24054125e+00],\n",
       "       [ 6.75319773e-01,  1.45355233e+00,  7.44578652e-01,\n",
       "         8.29802035e-01,  5.14167010e-01, -9.38786286e-01,\n",
       "         2.11327465e-01,  1.89722312e-01,  2.07319373e-01,\n",
       "         2.24609757e-01],\n",
       "       [ 3.42164690e+00, -1.41180978e+00, -5.84855558e-01,\n",
       "         1.62694074e+00, -3.35156410e-02,  4.23547955e-01,\n",
       "         1.10867580e+00, -4.24520651e-01, -1.28733421e+00,\n",
       "         7.21454736e-02],\n",
       "       [-2.00949987e-01, -2.37500928e-01, -3.04161692e+00,\n",
       "        -1.07379208e+00, -1.68704377e+00, -1.23325840e+00,\n",
       "        -1.20007003e+00,  6.59534775e-01,  9.12235468e-02,\n",
       "         9.76391725e-02],\n",
       "       [-8.71562146e-01,  2.17900756e+00, -1.30059827e+00,\n",
       "        -1.93723590e+00, -1.92047229e+00,  1.01559551e+00,\n",
       "         1.59024650e+00,  4.61030209e-01,  2.70960573e-02,\n",
       "         3.02577933e-01],\n",
       "       [-1.42370792e+00, -2.28513344e-02,  1.04925383e+00,\n",
       "        -1.40755201e+00,  3.65773878e-02,  1.84222412e-01,\n",
       "        -2.73197624e-01, -7.61973060e-01, -7.35957316e-01,\n",
       "        -6.27607484e-01],\n",
       "       [ 2.10240367e+00, -2.02559123e+00, -8.98687665e-01,\n",
       "         2.62826437e-01, -9.99860240e-01, -1.14809131e+00,\n",
       "         7.23783519e-01,  7.74501094e-01, -3.20100456e-01,\n",
       "         1.48443898e-01],\n",
       "       [ 1.00134566e+00, -9.50015950e-01, -1.51129086e+00,\n",
       "        -1.37725264e-01,  6.81511767e-01, -9.43072512e-01,\n",
       "        -7.96304382e-01, -1.81734653e-01,  6.56658370e-01,\n",
       "        -1.15578860e+00],\n",
       "       [-2.02478524e+00, -5.95483700e-01, -2.13305666e+00,\n",
       "         7.32026266e-02,  5.36318020e-01,  2.17473108e+00,\n",
       "        -6.79646362e-01, -2.16501992e-01,  1.19156768e+00,\n",
       "         2.31940147e-01],\n",
       "       [-1.27819226e+00,  2.65907239e+00,  2.52512075e-01,\n",
       "        -6.62037832e-02, -1.03989816e+00, -5.60127739e-01,\n",
       "         5.11055027e-01,  1.60727252e-01,  8.07234928e-01,\n",
       "        -9.59996892e-01],\n",
       "       [-2.44952903e-01,  1.07520554e+00, -1.61023093e+00,\n",
       "         1.74919573e-01,  2.53851069e-01, -1.87541203e-01,\n",
       "         3.99391310e-01,  3.44167146e-01, -9.46599192e-01,\n",
       "        -6.30790408e-01],\n",
       "       [ 2.04540107e+00, -8.42934740e-01,  7.92563370e-02,\n",
       "         1.54107238e+00,  1.64298456e+00, -1.25849862e+00,\n",
       "         1.49705677e+00,  5.37281670e-01,  1.71534115e+00,\n",
       "         7.63689915e-02],\n",
       "       [-3.86563687e+00, -1.57785340e+00,  2.30273737e+00,\n",
       "        -6.82234250e-01,  1.81435755e-01, -5.01544496e-01,\n",
       "        -3.89902719e-03, -8.34080944e-01, -2.44925076e-01,\n",
       "        -2.78348979e-02],\n",
       "       [-1.51469884e+00, -2.79788324e+00,  1.47929586e+00,\n",
       "        -2.54517694e+00,  1.14833872e+00, -8.51490370e-01,\n",
       "         1.71419854e-01,  1.17615328e+00, -3.92547651e-02,\n",
       "         1.84046010e-01],\n",
       "       [-3.36781129e+00, -7.62298121e-01, -1.18616584e+00,\n",
       "         1.58957298e-01,  2.94636990e+00,  3.45389902e-01,\n",
       "         1.32256903e-01, -3.45559778e-01, -3.19745695e-01,\n",
       "        -5.83137297e-01],\n",
       "       [ 1.47045445e+00,  1.15549536e+00,  4.98434393e-01,\n",
       "        -1.23366960e+00,  1.02453492e+00, -7.44137483e-01,\n",
       "        -2.32005769e-01, -7.01631390e-01,  3.18080187e-01,\n",
       "         3.45684711e-01],\n",
       "       [ 1.71559926e+00,  9.46076644e-01, -4.27480035e-01,\n",
       "         1.01746562e-01,  1.00871754e+00,  1.35266504e+00,\n",
       "        -1.49997907e+00,  1.59353951e+00, -1.65943147e-01,\n",
       "         1.34386019e-01],\n",
       "       [-2.92598795e+00, -3.58782108e-01, -1.31691126e-01,\n",
       "        -8.03103483e-01, -6.87398974e-01, -8.55815651e-01,\n",
       "         5.60876909e-01,  1.98032039e-01, -4.81877930e-01,\n",
       "         1.14260869e+00],\n",
       "       [-2.78027111e+00,  1.01800819e+00, -1.49035159e+00,\n",
       "         5.83051346e-01, -1.00360859e-02, -3.57712396e-01,\n",
       "         1.32103159e-01,  4.72780510e-01,  1.02439267e-01,\n",
       "         4.09917601e-01],\n",
       "       [ 1.15014644e+00,  1.84015531e+00,  3.24938869e+00,\n",
       "         5.37626317e-03, -3.89061221e-01,  2.40300528e+00,\n",
       "         2.21093054e-01,  9.14336963e-01,  7.05229178e-01,\n",
       "        -3.48346813e-02],\n",
       "       [ 5.54371530e-01,  3.34956262e+00,  1.95625552e+00,\n",
       "         1.45649266e+00, -2.05832254e-01, -1.25628291e+00,\n",
       "        -1.00000831e+00,  6.63924331e-01, -1.18226336e+00,\n",
       "        -4.75520768e-01],\n",
       "       [ 3.33059171e+00,  1.75770098e+00,  8.21176178e-01,\n",
       "        -8.63624715e-01,  1.44682707e+00, -7.75722523e-01,\n",
       "         5.27765472e-02, -4.14510987e-01, -1.11103002e-01,\n",
       "         5.29322459e-01],\n",
       "       [-3.94173744e+00,  8.24522150e-01, -5.72714139e-01,\n",
       "         1.91194578e+00, -5.99550346e-01,  6.80913113e-01,\n",
       "         3.41989437e-01, -2.89330581e-01, -1.55787108e-01,\n",
       "        -4.99128121e-01],\n",
       "       [-1.64991245e-01, -2.28465446e+00,  1.10087149e+00,\n",
       "         1.99809032e+00, -7.37914312e-01,  7.02474285e-01,\n",
       "         5.54685551e-01,  2.53924181e-01, -9.44773321e-02,\n",
       "        -3.55829162e-02],\n",
       "       [ 1.61695847e+00, -2.98697313e+00,  1.93363880e-01,\n",
       "        -6.13753871e-01,  4.88088254e-01,  1.81003168e+00,\n",
       "        -1.68703567e-01,  4.75376136e-01, -8.94128265e-01,\n",
       "        -1.29388993e-02],\n",
       "       [ 5.92061475e-01,  2.09665132e+00,  4.23745475e-01,\n",
       "        -1.03321448e+00,  3.42792404e-01,  3.70881742e-01,\n",
       "        -5.59471178e-01, -1.01083249e+00,  1.38606748e-01,\n",
       "         6.81628513e-01],\n",
       "       [ 5.13038879e+00, -1.38740292e-01, -1.87056711e+00,\n",
       "        -6.57565274e-01, -6.23713908e-01,  5.93979754e-01,\n",
       "        -1.20869422e-01, -1.17730965e+00, -1.87417147e-02,\n",
       "        -1.95610118e-01]])"
      ]
     },
     "execution_count": 52,
     "metadata": {},
     "output_type": "execute_result"
    }
   ],
   "source": [
    "x_new"
   ]
  },
  {
   "cell_type": "code",
   "execution_count": 53,
   "metadata": {},
   "outputs": [],
   "source": [
    "# FINDING BEST RANDOM STATE AND R2 SCORE FOR LINEAR REGRESSION WITH PCA APPLIED\n",
    "def maxr2_Score(regr,x_new,y):\n",
    "    max_r_score=0\n",
    "    for r_state in range(42,101):\n",
    "        x_train, x_test, y_train, y_test=train_test_split(x_new,y,random_state=r_state,test_size=0.22)\n",
    "        regr.fit(x_train,y_train)\n",
    "        y_pred=regr.predict(x_test)\n",
    "        r2_scr=r2_score(y_test,y_pred)\n",
    "        print('r2_score corr to random state',r_state,'is:',r2_scr)\n",
    "        if r2_scr>max_r_score:\n",
    "            max_r_score=r2_scr\n",
    "            final_r_state=r_state\n",
    "    print()\n",
    "    print()\n",
    "    print(\"max r2 score corr to \",final_r_state,'is',max_r_score)       \n",
    "    return final_r_state "
   ]
  },
  {
   "cell_type": "code",
   "execution_count": 54,
   "metadata": {},
   "outputs": [
    {
     "name": "stdout",
     "output_type": "stream",
     "text": [
      "r2_score corr to random state 42 is: 0.6962250989985832\n",
      "r2_score corr to random state 43 is: 0.24120264562032334\n",
      "r2_score corr to random state 44 is: 0.902691639521092\n",
      "r2_score corr to random state 45 is: 0.5721088543143088\n",
      "r2_score corr to random state 46 is: 0.5301070381887871\n",
      "r2_score corr to random state 47 is: 0.8349604225679724\n",
      "r2_score corr to random state 48 is: 0.39436655133097576\n",
      "r2_score corr to random state 49 is: -0.44095777759987476\n",
      "r2_score corr to random state 50 is: 0.9058596483217066\n",
      "r2_score corr to random state 51 is: 0.6380294081918862\n",
      "r2_score corr to random state 52 is: 0.0959428932518166\n",
      "r2_score corr to random state 53 is: 0.732052230771007\n",
      "r2_score corr to random state 54 is: 0.2115784834282335\n",
      "r2_score corr to random state 55 is: 0.7211344931019474\n",
      "r2_score corr to random state 56 is: 0.7176169782374373\n",
      "r2_score corr to random state 57 is: 0.7734735087500887\n",
      "r2_score corr to random state 58 is: 0.6069305725158856\n",
      "r2_score corr to random state 59 is: 0.6328774150973498\n",
      "r2_score corr to random state 60 is: 0.45541673779408076\n",
      "r2_score corr to random state 61 is: 0.6177981736977622\n",
      "r2_score corr to random state 62 is: 0.6972247533374812\n",
      "r2_score corr to random state 63 is: 0.45293321484827276\n",
      "r2_score corr to random state 64 is: 0.7328747378028818\n",
      "r2_score corr to random state 65 is: 0.4631115002667804\n",
      "r2_score corr to random state 66 is: 0.6698217235329439\n",
      "r2_score corr to random state 67 is: 0.8380288915595273\n",
      "r2_score corr to random state 68 is: 0.9527062723864222\n",
      "r2_score corr to random state 69 is: 0.7191921008671391\n",
      "r2_score corr to random state 70 is: 0.7302104207147022\n",
      "r2_score corr to random state 71 is: -0.7256088739692177\n",
      "r2_score corr to random state 72 is: 0.4162996471084499\n",
      "r2_score corr to random state 73 is: 0.8341078419686934\n",
      "r2_score corr to random state 74 is: 0.29818856485822076\n",
      "r2_score corr to random state 75 is: 0.8749942014049132\n",
      "r2_score corr to random state 76 is: 0.6595965612662917\n",
      "r2_score corr to random state 77 is: 0.773422901663307\n",
      "r2_score corr to random state 78 is: 0.7473410777028417\n",
      "r2_score corr to random state 79 is: 0.6972762261176015\n",
      "r2_score corr to random state 80 is: 0.5627442731532786\n",
      "r2_score corr to random state 81 is: 0.6810522747052213\n",
      "r2_score corr to random state 82 is: 0.7378314965485894\n",
      "r2_score corr to random state 83 is: 0.6735974291065838\n",
      "r2_score corr to random state 84 is: -0.15475780121147387\n",
      "r2_score corr to random state 85 is: 0.5992097785149312\n",
      "r2_score corr to random state 86 is: -0.6783162053313812\n",
      "r2_score corr to random state 87 is: 0.5938901799601555\n",
      "r2_score corr to random state 88 is: -1.505507256110703\n",
      "r2_score corr to random state 89 is: 0.7573288090324863\n",
      "r2_score corr to random state 90 is: 0.8512488907315253\n",
      "r2_score corr to random state 91 is: 0.6476307388795868\n",
      "r2_score corr to random state 92 is: 0.5987892199687885\n",
      "r2_score corr to random state 93 is: 0.43152517294303516\n",
      "r2_score corr to random state 94 is: 0.7220198743717976\n",
      "r2_score corr to random state 95 is: 0.7327667083101773\n",
      "r2_score corr to random state 96 is: 0.39096745655164067\n",
      "r2_score corr to random state 97 is: 0.7603727648681657\n",
      "r2_score corr to random state 98 is: 0.5445002559296359\n",
      "r2_score corr to random state 99 is: 0.8819924551549702\n",
      "r2_score corr to random state 100 is: 0.3594851212613597\n",
      "\n",
      "\n",
      "max r2 score corr to  68 is 0.9527062723864222\n"
     ]
    }
   ],
   "source": [
    "from sklearn.linear_model import LinearRegression\n",
    "lreg=LinearRegression()\n",
    "r_state=maxr2_Score(lreg,x_new,y)"
   ]
  },
  {
   "cell_type": "code",
   "execution_count": null,
   "metadata": {},
   "outputs": [],
   "source": [
    "## ON USING PCA WE ARE GETTING WAY BETTER RESULTS FROM THE DATA WITHOUT PCA :- # R2 SCORE BOOSTS UPTO 96 FROM 84"
   ]
  },
  {
   "cell_type": "code",
   "execution_count": null,
   "metadata": {},
   "outputs": [],
   "source": []
  },
  {
   "cell_type": "code",
   "execution_count": 56,
   "metadata": {},
   "outputs": [],
   "source": [
    "from sklearn.model_selection import cross_val_score"
   ]
  },
  {
   "cell_type": "code",
   "execution_count": 57,
   "metadata": {},
   "outputs": [
    {
     "name": "stdout",
     "output_type": "stream",
     "text": [
      "5.240917162076063\n",
      "1.892323598536657\n",
      "[ 0.61828909 -1.20466714  0.66936495  0.94113931  0.87868376]\n",
      "2.289304951743228\n",
      "0.9527062723864222\n",
      "0.8769587107982227\n"
     ]
    }
   ],
   "source": [
    "# best random state=68  for model LINEAR REGRESSION\n",
    "x_train,x_test,y_train,y_test=train_test_split(x_new,y,random_state=68,test_size=0.22)\n",
    "lr=LinearRegression()\n",
    "lr.fit(x_train,y_train)\n",
    "ylr=lr.predict(x_test)\n",
    "r2_scr=r2_score(y_test,ylr)\n",
    "print(mean_squared_error(ylr, y_test))\n",
    "print(mean_absolute_error(ylr, y_test))\n",
    "print(cross_val_score(lr,x_new,y,cv=5,scoring='r2'))\n",
    "print(np.sqrt(mean_squared_error(ylr, y_test)))\n",
    "print(r2_scr)\n",
    "print(lr.score(x_train,y_train))\n"
   ]
  },
  {
   "cell_type": "code",
   "execution_count": 58,
   "metadata": {},
   "outputs": [],
   "source": [
    "# IMPORTING GRID SEARCH FOR FINDING BEST PARAMETERS\n",
    "from sklearn.model_selection import GridSearchCV\n",
    "# TESTING TRAINING OTHER MODELS \n",
    "from sklearn.neighbors import KNeighborsRegressor\n",
    "knn=KNeighborsRegressor()"
   ]
  },
  {
   "cell_type": "code",
   "execution_count": 59,
   "metadata": {},
   "outputs": [
    {
     "data": {
      "text/plain": [
       "{'n_neighbors': 5}"
      ]
     },
     "execution_count": 59,
     "metadata": {},
     "output_type": "execute_result"
    }
   ],
   "source": [
    "from sklearn.model_selection import GridSearchCV\n",
    "parameters={'n_neighbors':[i+1 for i in range(10)]}\n",
    "clf=GridSearchCV(knn,parameters)\n",
    "clf.fit(x_new,y)\n",
    "clf.best_params_"
   ]
  },
  {
   "cell_type": "code",
   "execution_count": 60,
   "metadata": {
    "scrolled": true
   },
   "outputs": [
    {
     "name": "stdout",
     "output_type": "stream",
     "text": [
      "r2_score corr to random state 42 is: 0.5122241835834069\n",
      "r2_score corr to random state 43 is: 0.5856835128417563\n",
      "r2_score corr to random state 44 is: 0.6633281168492435\n",
      "r2_score corr to random state 45 is: 0.46431431431431447\n",
      "r2_score corr to random state 46 is: 0.6337455068296189\n",
      "r2_score corr to random state 47 is: 0.47777974608798346\n",
      "r2_score corr to random state 48 is: 0.8038973284442117\n",
      "r2_score corr to random state 49 is: -0.3998647996137126\n",
      "r2_score corr to random state 50 is: 0.44470588235294095\n",
      "r2_score corr to random state 51 is: 0.5875527756059421\n",
      "r2_score corr to random state 52 is: 0.6101061946902653\n",
      "r2_score corr to random state 53 is: 0.5309527027027025\n",
      "r2_score corr to random state 54 is: 0.46413793103448353\n",
      "r2_score corr to random state 55 is: 0.32302958579881635\n",
      "r2_score corr to random state 56 is: 0.6891215957038742\n",
      "r2_score corr to random state 57 is: 0.710523465703971\n",
      "r2_score corr to random state 58 is: 0.48462151394422304\n",
      "r2_score corr to random state 59 is: 0.7862565073355418\n",
      "r2_score corr to random state 60 is: 0.5809509946627852\n",
      "r2_score corr to random state 61 is: 0.7611817888278981\n",
      "r2_score corr to random state 62 is: 0.698859364873623\n",
      "r2_score corr to random state 63 is: 0.46537848605577714\n",
      "r2_score corr to random state 64 is: 0.53853747714808\n",
      "r2_score corr to random state 65 is: 0.42096824167312175\n",
      "r2_score corr to random state 66 is: 0.23243022464261398\n",
      "r2_score corr to random state 67 is: 0.3548060408646727\n",
      "r2_score corr to random state 68 is: 0.4652154696132593\n",
      "r2_score corr to random state 69 is: 0.5600463499420627\n",
      "r2_score corr to random state 70 is: 0.5839959225280325\n",
      "r2_score corr to random state 71 is: 0.392621359223301\n",
      "r2_score corr to random state 72 is: 0.2670461538461538\n",
      "r2_score corr to random state 73 is: 0.3464356435643563\n",
      "r2_score corr to random state 74 is: 0.19929613733905516\n",
      "r2_score corr to random state 75 is: 0.6624498269896194\n",
      "r2_score corr to random state 76 is: 0.5422131661442007\n",
      "r2_score corr to random state 77 is: 0.678539176626826\n",
      "r2_score corr to random state 78 is: 0.3262300683371294\n",
      "r2_score corr to random state 79 is: 0.5878721058434402\n",
      "r2_score corr to random state 80 is: 0.688822695035461\n",
      "r2_score corr to random state 81 is: 0.5360730948678074\n",
      "r2_score corr to random state 82 is: 0.6471005917159764\n",
      "r2_score corr to random state 83 is: 0.6950219036240544\n",
      "r2_score corr to random state 84 is: 0.5722368421052634\n",
      "r2_score corr to random state 85 is: 0.5349856938483548\n",
      "r2_score corr to random state 86 is: 0.19441527446300821\n",
      "r2_score corr to random state 87 is: 0.34086629001883306\n",
      "r2_score corr to random state 88 is: 0.73628217349857\n",
      "r2_score corr to random state 89 is: 0.6620839064649244\n",
      "r2_score corr to random state 90 is: 0.5152710843373489\n",
      "r2_score corr to random state 91 is: 0.3811570247933883\n",
      "r2_score corr to random state 92 is: 0.3826181818181815\n",
      "r2_score corr to random state 93 is: 0.3344050991501416\n",
      "r2_score corr to random state 94 is: 0.5633850303438974\n",
      "r2_score corr to random state 95 is: 0.265615577889447\n",
      "r2_score corr to random state 96 is: 0.23123182861514913\n",
      "r2_score corr to random state 97 is: 0.34227291580257135\n",
      "r2_score corr to random state 98 is: 0.3214669926650363\n",
      "r2_score corr to random state 99 is: 0.646462093862816\n",
      "r2_score corr to random state 100 is: 0.2606996587030713\n",
      "\n",
      "\n",
      "max r2 score corr to  48 is 0.8038973284442117\n"
     ]
    }
   ],
   "source": [
    "#KNN\n",
    "knn=KNeighborsRegressor(n_neighbors=5)\n",
    "r_state=maxr2_Score(knn,x_new,y)"
   ]
  },
  {
   "cell_type": "code",
   "execution_count": 61,
   "metadata": {},
   "outputs": [
    {
     "data": {
      "text/plain": [
       "{'n_estimators': 50}"
      ]
     },
     "execution_count": 61,
     "metadata": {},
     "output_type": "execute_result"
    }
   ],
   "source": [
    "from sklearn.ensemble import RandomForestRegressor\n",
    "rfr=RandomForestRegressor()\n",
    "params={'n_estimators':[1,10,50,100,200,300,400,500,1000]}\n",
    "clf=GridSearchCV(rfr,params)\n",
    "clf.fit(x_new,y)\n",
    "clf.best_params_"
   ]
  },
  {
   "cell_type": "code",
   "execution_count": 62,
   "metadata": {
    "scrolled": true
   },
   "outputs": [
    {
     "name": "stdout",
     "output_type": "stream",
     "text": [
      "r2_score corr to random state 42 is: -0.5646217122683144\n",
      "r2_score corr to random state 43 is: 0.31762584921292414\n",
      "r2_score corr to random state 44 is: 0.3667077725612944\n",
      "r2_score corr to random state 45 is: 0.33276266266266263\n",
      "r2_score corr to random state 46 is: 0.6447854780733282\n",
      "r2_score corr to random state 47 is: 0.5543465603779156\n",
      "r2_score corr to random state 48 is: 0.5244084861183869\n",
      "r2_score corr to random state 49 is: -0.3309747947851276\n",
      "r2_score corr to random state 50 is: 0.5280141176470587\n",
      "r2_score corr to random state 51 is: 0.2243999999999997\n",
      "r2_score corr to random state 52 is: -0.4855449557522131\n",
      "r2_score corr to random state 53 is: 0.2993662162162162\n",
      "r2_score corr to random state 54 is: 0.005392528735631674\n",
      "r2_score corr to random state 55 is: -0.5298106508875744\n",
      "r2_score corr to random state 56 is: 0.4812766398158801\n",
      "r2_score corr to random state 57 is: 0.516272623345367\n",
      "r2_score corr to random state 58 is: 0.35180405650126734\n",
      "r2_score corr to random state 59 is: 0.5129755797444389\n",
      "r2_score corr to random state 60 is: 0.2809441048034934\n",
      "r2_score corr to random state 61 is: 0.46228065870196977\n",
      "r2_score corr to random state 62 is: 0.5546811406351265\n",
      "r2_score corr to random state 63 is: -0.017677290836653592\n",
      "r2_score corr to random state 64 is: 0.360941206581353\n",
      "r2_score corr to random state 65 is: 0.5574823392718824\n",
      "r2_score corr to random state 66 is: 0.4703091899251193\n",
      "r2_score corr to random state 67 is: 0.557960260586319\n",
      "r2_score corr to random state 68 is: 0.43534880294659295\n",
      "r2_score corr to random state 69 is: 0.2266863962920045\n",
      "r2_score corr to random state 70 is: 0.5666402990146109\n",
      "r2_score corr to random state 71 is: 0.35466407766990293\n",
      "r2_score corr to random state 72 is: 0.1518799999999998\n",
      "r2_score corr to random state 73 is: 0.35156782178217827\n",
      "r2_score corr to random state 74 is: 0.13988326180257526\n",
      "r2_score corr to random state 75 is: 0.5663531487889272\n",
      "r2_score corr to random state 76 is: 0.4720139184952976\n",
      "r2_score corr to random state 77 is: 0.5105893758300133\n",
      "r2_score corr to random state 78 is: 0.2829066059225509\n",
      "r2_score corr to random state 79 is: 0.3382342521131936\n",
      "r2_score corr to random state 80 is: 0.5498434042553189\n",
      "r2_score corr to random state 81 is: 0.5252274494556763\n",
      "r2_score corr to random state 82 is: 0.49798402366863936\n",
      "r2_score corr to random state 83 is: 0.10669908403026707\n",
      "r2_score corr to random state 84 is: 0.2805157894736836\n",
      "r2_score corr to random state 85 is: 0.29564377682403387\n",
      "r2_score corr to random state 86 is: -0.3268842482100234\n",
      "r2_score corr to random state 87 is: -0.006945386064030057\n",
      "r2_score corr to random state 88 is: 0.33154337464251715\n",
      "r2_score corr to random state 89 is: 0.2813392709766164\n",
      "r2_score corr to random state 90 is: 0.28381249999999936\n",
      "r2_score corr to random state 91 is: -0.5925201101928377\n",
      "r2_score corr to random state 92 is: 0.17106690909090916\n",
      "r2_score corr to random state 93 is: 0.4624941926345605\n",
      "r2_score corr to random state 94 is: 0.14447255563047856\n",
      "r2_score corr to random state 95 is: 0.42791005025125595\n",
      "r2_score corr to random state 96 is: 0.4023745983167558\n",
      "r2_score corr to random state 97 is: 0.4433655744504358\n",
      "r2_score corr to random state 98 is: -0.035291442542787266\n",
      "r2_score corr to random state 99 is: 0.44298826714801476\n",
      "r2_score corr to random state 100 is: -0.07110273037542703\n",
      "\n",
      "\n",
      "max r2 score corr to  46 is 0.6447854780733282\n"
     ]
    }
   ],
   "source": [
    "rfr=RandomForestRegressor(n_estimators=50)\n",
    "r_state=maxr2_Score(rfr,x_new,y)"
   ]
  },
  {
   "cell_type": "code",
   "execution_count": 63,
   "metadata": {},
   "outputs": [],
   "source": [
    "from sklearn.ensemble import GradientBoostingRegressor\n"
   ]
  },
  {
   "cell_type": "code",
   "execution_count": 64,
   "metadata": {},
   "outputs": [
    {
     "name": "stdout",
     "output_type": "stream",
     "text": [
      "r2_score corr to random state 42 is: -0.872070680100151\n",
      "r2_score corr to random state 43 is: 0.024474668580286796\n",
      "r2_score corr to random state 44 is: 0.174438111297877\n",
      "r2_score corr to random state 45 is: 0.0946554958700847\n",
      "r2_score corr to random state 46 is: 0.3484481619125722\n",
      "r2_score corr to random state 47 is: 0.5306396167885346\n",
      "r2_score corr to random state 48 is: 0.6215617239723277\n",
      "r2_score corr to random state 49 is: -0.023597501013565392\n",
      "r2_score corr to random state 50 is: 0.4932669231145045\n",
      "r2_score corr to random state 51 is: 0.14230124026868152\n",
      "r2_score corr to random state 52 is: -1.11427780895584\n",
      "r2_score corr to random state 53 is: 0.3339892696369873\n",
      "r2_score corr to random state 54 is: -0.8018147850560424\n",
      "r2_score corr to random state 55 is: -0.5651708277641891\n",
      "r2_score corr to random state 56 is: 0.47326708344764357\n",
      "r2_score corr to random state 57 is: 0.6475234164553654\n",
      "r2_score corr to random state 58 is: 0.4555038425455973\n",
      "r2_score corr to random state 59 is: 0.4451167918353266\n",
      "r2_score corr to random state 60 is: 0.3183940953606962\n",
      "r2_score corr to random state 61 is: 0.4983716269053027\n",
      "r2_score corr to random state 62 is: 0.5337568341660537\n",
      "r2_score corr to random state 63 is: -0.01387813325157694\n",
      "r2_score corr to random state 64 is: 0.308812198421748\n",
      "r2_score corr to random state 65 is: 0.6733304697349696\n",
      "r2_score corr to random state 66 is: -0.004076438891877254\n",
      "r2_score corr to random state 67 is: 0.6426328820337617\n",
      "r2_score corr to random state 68 is: 0.5976929876112697\n",
      "r2_score corr to random state 69 is: 0.5655240460521556\n",
      "r2_score corr to random state 70 is: 0.5449369675531706\n",
      "r2_score corr to random state 71 is: -0.5580427376121917\n",
      "r2_score corr to random state 72 is: -0.13739752282970707\n",
      "r2_score corr to random state 73 is: 0.3755985586360324\n",
      "r2_score corr to random state 74 is: 0.05087143899752122\n",
      "r2_score corr to random state 75 is: 0.7216674656563593\n",
      "r2_score corr to random state 76 is: 0.46871557182688606\n",
      "r2_score corr to random state 77 is: 0.5501472132955914\n",
      "r2_score corr to random state 78 is: 0.5230623400077512\n",
      "r2_score corr to random state 79 is: 0.33399340275231015\n",
      "r2_score corr to random state 80 is: 0.7068160125664171\n",
      "r2_score corr to random state 81 is: 0.3639814659775398\n",
      "r2_score corr to random state 82 is: 0.717381939195272\n",
      "r2_score corr to random state 83 is: 0.29662753866554015\n",
      "r2_score corr to random state 84 is: -0.22660997823049978\n",
      "r2_score corr to random state 85 is: 0.6152684832991278\n",
      "r2_score corr to random state 86 is: -0.725206052201474\n",
      "r2_score corr to random state 87 is: 0.7556046072282628\n",
      "r2_score corr to random state 88 is: 0.549256967136953\n",
      "r2_score corr to random state 89 is: 0.5084593172411636\n",
      "r2_score corr to random state 90 is: 0.655869248282368\n",
      "r2_score corr to random state 91 is: -0.38483387882510023\n",
      "r2_score corr to random state 92 is: -0.05335118840286346\n",
      "r2_score corr to random state 93 is: 0.6810506579249319\n",
      "r2_score corr to random state 94 is: 0.42492945400579973\n",
      "r2_score corr to random state 95 is: 0.5807114661507953\n",
      "r2_score corr to random state 96 is: 0.3495299577854375\n",
      "r2_score corr to random state 97 is: 0.6411340135288979\n",
      "r2_score corr to random state 98 is: 0.3312991045000542\n",
      "r2_score corr to random state 99 is: 0.2092863096418469\n",
      "r2_score corr to random state 100 is: 0.007786482872540912\n",
      "\n",
      "\n",
      "max r2 score corr to  87 is 0.7556046072282628\n"
     ]
    }
   ],
   "source": [
    "# GRADIENT BOOSTING TECCHNIQUE\n",
    "gbr=GradientBoostingRegressor(learning_rate= 0.01, n_estimators=1000)\n",
    "r_state=maxr2_Score(gbr,x_new,y)"
   ]
  },
  {
   "cell_type": "code",
   "execution_count": 65,
   "metadata": {},
   "outputs": [
    {
     "name": "stdout",
     "output_type": "stream",
     "text": [
      "75.35043661269079\n",
      "10.684831149927504\n",
      "2.581814007517193\n",
      "[ 0.0973075  -8.73393461  0.48946207  0.60237347  0.74454217]\n",
      "0.7535043661269079\n"
     ]
    }
   ],
   "source": [
    "x_train,x_test,y_train,y_test=train_test_split(x_new,y,random_state=87,test_size=0.22)\n",
    "gbr=GradientBoostingRegressor(learning_rate= 0.01, n_estimators=1000)\n",
    "gbr.fit(x_train,y_train)\n",
    "y_gbr=gbr.predict(x_test)\n",
    "print(gbr.score(x_test, y_test)*100)\n",
    "print(mean_squared_error(y_gbr, y_test))\n",
    "print(mean_absolute_error(y_gbr, y_test))\n",
    "print(cross_val_score(gbr,x,y,cv=5,scoring=\"r2\"))\n",
    "print(r2_score(y_test,y_gbr))\n"
   ]
  },
  {
   "cell_type": "code",
   "execution_count": 66,
   "metadata": {},
   "outputs": [
    {
     "name": "stdout",
     "output_type": "stream",
     "text": [
      "0.563192669566257\n",
      "18.934260609005516\n",
      "3.8112244897959187\n",
      "0.21046028051641774\n",
      "[ 0.13781747 -5.25217836  0.40062479  0.44946209  0.85715081]\n"
     ]
    }
   ],
   "source": [
    "### ADA BOSSTING\n",
    "from sklearn.ensemble import AdaBoostRegressor\n",
    "ada=AdaBoostRegressor()\n",
    "ada.fit(x_train,y_train)\n",
    "yada=ada.predict(x_test)\n",
    "print(ada.score(x_test,y_test))\n",
    "print(mean_squared_error(yada, y_test))\n",
    "print(mean_absolute_error(yada, y_test))\n",
    "print(r2_score(yada, y_test))\n",
    "print(cross_val_score(ada,x,y,cv=5,scoring='r2'))"
   ]
  },
  {
   "cell_type": "code",
   "execution_count": 67,
   "metadata": {},
   "outputs": [],
   "source": [
    "# SUPPORT VECTOR MACHINE\n",
    "\n",
    "from sklearn.svm import SVR\n",
    "svr=SVR()"
   ]
  },
  {
   "cell_type": "code",
   "execution_count": 68,
   "metadata": {
    "scrolled": true
   },
   "outputs": [
    {
     "name": "stdout",
     "output_type": "stream",
     "text": [
      "r2_score corr to random state 42 is: 0.005154601828837424\n",
      "r2_score corr to random state 43 is: 0.06106903146986564\n",
      "r2_score corr to random state 44 is: -0.06653539286412236\n",
      "r2_score corr to random state 45 is: 0.0671562536385274\n",
      "r2_score corr to random state 46 is: 0.09945600366268137\n",
      "r2_score corr to random state 47 is: 0.040509739293703606\n",
      "r2_score corr to random state 48 is: 0.08541586894047826\n",
      "r2_score corr to random state 49 is: -1.1701796324897669\n",
      "r2_score corr to random state 50 is: -0.16531239187612123\n",
      "r2_score corr to random state 51 is: -0.11385062123268552\n",
      "r2_score corr to random state 52 is: 0.01976244159049312\n",
      "r2_score corr to random state 53 is: 0.10159819418393001\n",
      "r2_score corr to random state 54 is: 0.11268873208472308\n",
      "r2_score corr to random state 55 is: 0.005447105516045325\n",
      "r2_score corr to random state 56 is: 0.07746330446231509\n",
      "r2_score corr to random state 57 is: 0.09937191644749066\n",
      "r2_score corr to random state 58 is: 0.05716965459365031\n",
      "r2_score corr to random state 59 is: -0.06489091617386311\n",
      "r2_score corr to random state 60 is: -0.0533916205741547\n",
      "r2_score corr to random state 61 is: 0.08085372344882358\n",
      "r2_score corr to random state 62 is: 0.04676792356597259\n",
      "r2_score corr to random state 63 is: 0.05880404363484648\n",
      "r2_score corr to random state 64 is: 0.04514009448797529\n",
      "r2_score corr to random state 65 is: 0.13377434847358927\n",
      "r2_score corr to random state 66 is: 0.02967917826083133\n",
      "r2_score corr to random state 67 is: 0.047085562788011126\n",
      "r2_score corr to random state 68 is: -0.15345068384942584\n",
      "r2_score corr to random state 69 is: -0.013088612600614224\n",
      "r2_score corr to random state 70 is: 0.06389452985156152\n",
      "r2_score corr to random state 71 is: -0.7484492319131117\n",
      "r2_score corr to random state 72 is: -0.4790107918715967\n",
      "r2_score corr to random state 73 is: 0.11128980142762479\n",
      "r2_score corr to random state 74 is: -0.0779763766303816\n",
      "r2_score corr to random state 75 is: 0.06437508776413281\n",
      "r2_score corr to random state 76 is: 0.1018159138206205\n",
      "r2_score corr to random state 77 is: 0.027668411165133744\n",
      "r2_score corr to random state 78 is: -0.35637594772710957\n",
      "r2_score corr to random state 79 is: 0.03860446076088464\n",
      "r2_score corr to random state 80 is: 0.0765527754266282\n",
      "r2_score corr to random state 81 is: 0.11158393326817273\n",
      "r2_score corr to random state 82 is: 0.05022606511584715\n",
      "r2_score corr to random state 83 is: 0.011828335684673563\n",
      "r2_score corr to random state 84 is: 0.06806437548557798\n",
      "r2_score corr to random state 85 is: 0.08129719118626733\n",
      "r2_score corr to random state 86 is: -2.250185977481839\n",
      "r2_score corr to random state 87 is: -0.6621438703584717\n",
      "r2_score corr to random state 88 is: -0.052560170886264856\n",
      "r2_score corr to random state 89 is: 0.07693067547952603\n",
      "r2_score corr to random state 90 is: -0.22629197599340278\n",
      "r2_score corr to random state 91 is: -0.04730174862173353\n",
      "r2_score corr to random state 92 is: 0.021685317680179894\n",
      "r2_score corr to random state 93 is: 0.019009144743660777\n",
      "r2_score corr to random state 94 is: -0.3532168743251245\n",
      "r2_score corr to random state 95 is: -0.21756381703511907\n",
      "r2_score corr to random state 96 is: -0.09189533060920807\n",
      "r2_score corr to random state 97 is: -0.0749330501666452\n",
      "r2_score corr to random state 98 is: -0.5510914183085924\n",
      "r2_score corr to random state 99 is: 0.09936487970706176\n",
      "r2_score corr to random state 100 is: 0.0018365957152336465\n",
      "\n",
      "\n",
      "max r2 score corr to  65 is 0.13377434847358927\n"
     ]
    }
   ],
   "source": [
    "# FINDING BEST RANDOM STATE AND R2 SCORE FOR SVR\n",
    "r_state=maxr2_Score(svr,x_new,y)"
   ]
  },
  {
   "cell_type": "code",
   "execution_count": 69,
   "metadata": {
    "scrolled": true
   },
   "outputs": [
    {
     "name": "stdout",
     "output_type": "stream",
     "text": [
      "r2_score corr to random state 42 is: -2.2992056487202124\n",
      "r2_score corr to random state 43 is: -2.7174813587406796\n",
      "r2_score corr to random state 44 is: 0.003129890453834272\n",
      "r2_score corr to random state 45 is: -1.6679179179179178\n",
      "r2_score corr to random state 46 is: 0.34327821710999284\n",
      "r2_score corr to random state 47 is: 0.4089164452317686\n",
      "r2_score corr to random state 48 is: 0.12545835515976955\n",
      "r2_score corr to random state 49 is: 0.15668759053597292\n",
      "r2_score corr to random state 50 is: -0.11617647058823533\n",
      "r2_score corr to random state 51 is: 0.19546520719311966\n",
      "r2_score corr to random state 52 is: -0.9575221238938054\n",
      "r2_score corr to random state 53 is: -0.301858108108108\n",
      "r2_score corr to random state 54 is: -3.048132183908047\n",
      "r2_score corr to random state 55 is: -0.7624260355029586\n",
      "r2_score corr to random state 56 is: 0.26026083621020335\n",
      "r2_score corr to random state 57 is: 0.5009025270758123\n",
      "r2_score corr to random state 58 is: 0.48913437160449114\n",
      "r2_score corr to random state 59 is: -0.4973970657832465\n",
      "r2_score corr to random state 60 is: 0.32920912178554107\n",
      "r2_score corr to random state 61 is: 0.6598320955763641\n",
      "r2_score corr to random state 62 is: 0.2956902138690862\n",
      "r2_score corr to random state 63 is: -0.7064243027888448\n",
      "r2_score corr to random state 64 is: -0.06343692870201112\n",
      "r2_score corr to random state 65 is: 0.25580945003872957\n",
      "r2_score corr to random state 66 is: -1.2729748127978215\n",
      "r2_score corr to random state 67 is: 0.1553153686704175\n",
      "r2_score corr to random state 68 is: 0.10791896869244944\n",
      "r2_score corr to random state 69 is: -0.3334878331402087\n",
      "r2_score corr to random state 70 is: 0.3768263676520558\n",
      "r2_score corr to random state 71 is: 0.1747572815533981\n",
      "r2_score corr to random state 72 is: -3.5176923076923075\n",
      "r2_score corr to random state 73 is: 0.016089108910891103\n",
      "r2_score corr to random state 74 is: -0.16866952789699585\n",
      "r2_score corr to random state 75 is: 0.23096885813148782\n",
      "r2_score corr to random state 76 is: 0.048746081504702055\n",
      "r2_score corr to random state 77 is: -0.7352810978308988\n",
      "r2_score corr to random state 78 is: -0.28160592255125283\n",
      "r2_score corr to random state 79 is: -1.570011025358324\n",
      "r2_score corr to random state 80 is: 0.15726950354609925\n",
      "r2_score corr to random state 81 is: -0.3512830482115086\n",
      "r2_score corr to random state 82 is: -0.34408284023668645\n",
      "r2_score corr to random state 83 is: -0.9792911190760649\n",
      "r2_score corr to random state 84 is: -0.9703947368421053\n",
      "r2_score corr to random state 85 is: -0.25679542203147343\n",
      "r2_score corr to random state 86 is: -1.789976133651551\n",
      "r2_score corr to random state 87 is: -0.09086629001883217\n",
      "r2_score corr to random state 88 is: -0.644899904671115\n",
      "r2_score corr to random state 89 is: -0.5056740027510316\n",
      "r2_score corr to random state 90 is: -1.3640813253012047\n",
      "r2_score corr to random state 91 is: -0.5950413223140496\n",
      "r2_score corr to random state 92 is: 0.0072727272727273196\n",
      "r2_score corr to random state 93 is: 0.023371104815863908\n",
      "r2_score corr to random state 94 is: 0.5445043830074174\n",
      "r2_score corr to random state 95 is: -0.06516959798995003\n",
      "r2_score corr to random state 96 is: 0.10960214231063503\n",
      "r2_score corr to random state 97 is: 0.5543343011198671\n",
      "r2_score corr to random state 98 is: 0.08435207823960877\n",
      "r2_score corr to random state 99 is: -0.5330926594464498\n",
      "r2_score corr to random state 100 is: -0.4215017064846418\n",
      "\n",
      "\n",
      "max r2 score corr to  61 is 0.6598320955763641\n"
     ]
    }
   ],
   "source": [
    "from sklearn.tree import DecisionTreeRegressor\n",
    "dtr= DecisionTreeRegressor()\n",
    "r_state=maxr2_Score(dtr,x_new,y)"
   ]
  },
  {
   "cell_type": "code",
   "execution_count": 71,
   "metadata": {},
   "outputs": [
    {
     "data": {
      "text/plain": [
       "<matplotlib.collections.PathCollection at 0x263a97f85c8>"
      ]
     },
     "execution_count": 71,
     "metadata": {},
     "output_type": "execute_result"
    },
    {
     "data": {
      "image/png": "[encoded data removed]",
      "text/plain": [
       "<Figure size 432x288 with 1 Axes>"
      ]
     },
     "metadata": {
      "needs_background": "light"
     },
     "output_type": "display_data"
    }
   ],
   "source": [
    "plt.scatter(y_test,ylr)"
   ]
  },
  {
   "cell_type": "code",
   "execution_count": 72,
   "metadata": {},
   "outputs": [
    {
     "name": "stdout",
     "output_type": "stream",
     "text": [
      "5.240917162076063\n",
      "1.892323598536657\n",
      "[ 0.61828909 -1.20466714  0.66936495  0.94113931  0.87868376]\n",
      "2.289304951743228\n",
      "0.9527062723864222\n",
      "0.8769587107982227\n"
     ]
    }
   ],
   "source": [
    "# LINEAR REGRESSION MODEL IS WORKING BEST FOR THE DATASET THERE FORE \n",
    "x_train,x_test,y_train,y_test=train_test_split(x_new,y,random_state=68,test_size=0.22)\n",
    "lr=LinearRegression()\n",
    "lr.fit(x_train,y_train)\n",
    "ylr=lr.predict(x_test)\n",
    "r2_scr=r2_score(y_test,ylr)\n",
    "print(mean_squared_error(ylr, y_test))\n",
    "print(mean_absolute_error(ylr, y_test))\n",
    "print(cross_val_score(lr,x_new,y,cv=5,scoring='r2'))\n",
    "print(np.sqrt(mean_squared_error(ylr, y_test)))\n",
    "print(r2_scr)\n",
    "print(lr.score(x_train,y_train))\n"
   ]
  },
  {
   "cell_type": "code",
   "execution_count": null,
   "metadata": {},
   "outputs": [],
   "source": [
    "# CONCLUSION = ON USING THE PCA TECHNIQUE WE BOOSTED THE R2 SCORE FORM 84 TO 95 SOMEHOW GETTING MORE AND MORE CLOSER TO OUR RESULT \n",
    " # WITH MSE = 5.2\n",
    "    # MAE=1.89\n",
    "    ## CROSS VAL SCORE= 94  WHICH SHOWS THE MODEL IS WORKING WELL WITHOUR UNDERGFITTING AND OVERFITTING \n",
    "    ## R2 SCORE= 95.27"
   ]
  },
  {
   "cell_type": "code",
   "execution_count": 74,
   "metadata": {},
   "outputs": [
    {
     "data": {
      "text/html": [
       "<div>\n",
       "<style scoped>\n",
       "    .dataframe tbody tr th:only-of-type {\n",
       "        vertical-align: middle;\n",
       "    }\n",
       "\n",
       "    .dataframe tbody tr th {\n",
       "        vertical-align: top;\n",
       "    }\n",
       "\n",
       "    .dataframe thead th {\n",
       "        text-align: right;\n",
       "    }\n",
       "</style>\n",
       "<table border=\"1\" class=\"dataframe\">\n",
       "  <thead>\n",
       "    <tr style=\"text-align: right;\">\n",
       "      <th></th>\n",
       "      <th>actual</th>\n",
       "      <th>predicted</th>\n",
       "    </tr>\n",
       "  </thead>\n",
       "  <tbody>\n",
       "    <tr>\n",
       "      <td>20</td>\n",
       "      <td>90</td>\n",
       "      <td>89.584033</td>\n",
       "    </tr>\n",
       "    <tr>\n",
       "      <td>28</td>\n",
       "      <td>74</td>\n",
       "      <td>70.133399</td>\n",
       "    </tr>\n",
       "    <tr>\n",
       "      <td>29</td>\n",
       "      <td>68</td>\n",
       "      <td>65.470036</td>\n",
       "    </tr>\n",
       "    <tr>\n",
       "      <td>26</td>\n",
       "      <td>84</td>\n",
       "      <td>85.764861</td>\n",
       "    </tr>\n",
       "    <tr>\n",
       "      <td>2</td>\n",
       "      <td>81</td>\n",
       "      <td>79.663579</td>\n",
       "    </tr>\n",
       "    <tr>\n",
       "      <td>0</td>\n",
       "      <td>95</td>\n",
       "      <td>91.799385</td>\n",
       "    </tr>\n",
       "    <tr>\n",
       "      <td>15</td>\n",
       "      <td>100</td>\n",
       "      <td>99.868164</td>\n",
       "    </tr>\n",
       "  </tbody>\n",
       "</table>\n",
       "</div>"
      ],
      "text/plain": [
       "    actual  predicted\n",
       "20      90  89.584033\n",
       "28      74  70.133399\n",
       "29      68  65.470036\n",
       "26      84  85.764861\n",
       "2       81  79.663579\n",
       "0       95  91.799385\n",
       "15     100  99.868164"
      ]
     },
     "execution_count": 74,
     "metadata": {},
     "output_type": "execute_result"
    }
   ],
   "source": [
    "RESULTS=pd.DataFrame({'actual':y_test,'predicted':ylr})\n",
    "RESULTS"
   ]
  },
  {
   "cell_type": "code",
   "execution_count": 75,
   "metadata": {},
   "outputs": [
    {
     "data": {
      "text/plain": [
       "['princelr.pkl']"
      ]
     },
     "execution_count": 75,
     "metadata": {},
     "output_type": "execute_result"
    }
   ],
   "source": [
    "from sklearn.externals import joblib\n",
    "joblib.dump(lr,\"princelr.pkl\")"
   ]
  },
  {
   "cell_type": "code",
   "execution_count": null,
   "metadata": {},
   "outputs": [],
   "source": []
  }
 ],
 "metadata": {
  "kernelspec": {
   "display_name": "Python 3",
   "language": "python",
   "name": "python3"
  },
  "language_info": {
   "codemirror_mode": {
    "name": "ipython",
    "version": 3
   },
   "file_extension": ".py",
   "mimetype": "text/x-python",
   "name": "python",
   "nbconvert_exporter": "python",
   "pygments_lexer": "ipython3",
   "version": "3.7.4"
  }
 },
 "nbformat": 4,
 "nbformat_minor": 2
}
